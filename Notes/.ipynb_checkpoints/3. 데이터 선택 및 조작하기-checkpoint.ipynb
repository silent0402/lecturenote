{
 "cells": [
  {
   "cell_type": "markdown",
   "metadata": {},
   "source": [
    "# 3. 데이터 선택 및 조작하기\n",
    "\n"
   ]
  },
  {
   "cell_type": "code",
   "execution_count": 115,
   "metadata": {},
   "outputs": [],
   "source": [
    "import pandas as pd"
   ]
  },
  {
   "cell_type": "code",
   "execution_count": 116,
   "metadata": {},
   "outputs": [
    {
     "name": "stdout",
     "output_type": "stream",
     "text": [
      "   Name  Age Gender  is_student\n",
      "0  Baek   21      M        True\n",
      "1   Kim   31      F       False\n",
      "2  Park   17      F        True\n",
      "3   Han   41      M       False\n",
      "4   Lee   51      M       False\n"
     ]
    }
   ],
   "source": [
    "dict_list = {\n",
    "    'Name' : ['Baek','Kim','Park','Han','Lee'],\n",
    "    'Age' : [21,31,17,41,51],\n",
    "    'Gender' : ['M','F','F','M','M'],\n",
    "    'is_student' : [True, False, True, False, False]\n",
    "}\n",
    "\n",
    "df = pd.DataFrame(dict_list)\n",
    "print(df)"
   ]
  },
  {
   "cell_type": "markdown",
   "metadata": {},
   "source": [
    "## DataFrame의 size, shape, ndim\n",
    "\n",
    "```python\n",
    "df.size # DataFrame 내의 총 데이터 개수 (row * column)\n",
    "df.shape # (row수, column수)\n",
    "df.ndim # 데이터의 차원\n",
    "```\n",
    "\n",
    "### Example"
   ]
  },
  {
   "cell_type": "code",
   "execution_count": 117,
   "metadata": {},
   "outputs": [
    {
     "name": "stdout",
     "output_type": "stream",
     "text": [
      "20\n",
      "(5, 4)\n",
      "2\n"
     ]
    }
   ],
   "source": [
    "print(df.size)\n",
    "print(df.shape)\n",
    "print(df.ndim)"
   ]
  },
  {
   "cell_type": "markdown",
   "metadata": {},
   "source": [
    "---\n",
    "## 3.1. 데이터 선택하기\n",
    "\n",
    "기본 문법\n",
    "\n",
    "```python\n",
    "series[index] # index에 위치한 값을 반환\n",
    "dataframe[colname] # colname에 해당하는 column을 반환\n",
    "dataframe[start:end] # start~end 의 index에 해당하는 row를 반환\n",
    "\n",
    "dataframe.loc[index, [colname]] # index, colname의 범위에 해당하는 DataFrame을 반환\n",
    "dataframe.iloc[row number, [col number]] # row number, col number의 범위에 해당하는 DataFrame을 반환\n",
    "```\n",
    "#### 주의 : loc 함수는 index와 column명을 통해 접근하며, iloc함수는 row와 column의 위치를 통해 접근한다\n",
    "\n",
    "\n",
    "### Example"
   ]
  },
  {
   "cell_type": "code",
   "execution_count": 118,
   "metadata": {},
   "outputs": [
    {
     "name": "stdout",
     "output_type": "stream",
     "text": [
      "0    Baek\n",
      "1     Kim\n",
      "2    Park\n",
      "3     Han\n",
      "4     Lee\n",
      "Name: Name, dtype: object \n",
      "\n",
      "<class 'pandas.core.series.Series'>\n"
     ]
    }
   ],
   "source": [
    "# []를 이용하여 특정 Column 선택\n",
    "# 리턴값의 type은 Series\n",
    "\n",
    "result = df['Name'] # 혹은 df.노선명\n",
    "#result = df.loc[:,'Name']\n",
    "#result = df.iloc[:,0]\n",
    "print(result, '\\n')\n",
    "print(type(result))"
   ]
  },
  {
   "cell_type": "code",
   "execution_count": 119,
   "metadata": {},
   "outputs": [
    {
     "name": "stdout",
     "output_type": "stream",
     "text": [
      "   Name  Age Gender  is_student\n",
      "1   Kim   31      F       False\n",
      "2  Park   17      F        True \n",
      "\n",
      "<class 'pandas.core.frame.DataFrame'>\n"
     ]
    }
   ],
   "source": [
    "# []를 이용하여 특정 Row 선택\n",
    "# 리턴값의 type은 ???\n",
    "\n",
    "result = df[1:3] # 첫번째, 두번째 Row 선택\n",
    "#result = df.loc[1:2]\n",
    "#result = df.iloc[1:3]\n",
    "print(result, '\\n')\n",
    "print(type(result))"
   ]
  },
  {
   "cell_type": "code",
   "execution_count": 120,
   "metadata": {},
   "outputs": [
    {
     "name": "stdout",
     "output_type": "stream",
     "text": [
      "F\n",
      "F\n",
      "F\n",
      "F\n",
      "F\n",
      "F\n"
     ]
    }
   ],
   "source": [
    "# Series의 특정 값을 선택\n",
    "s = df['Gender']\n",
    "print(s[2])\n",
    "print(s.loc[2])\n",
    "print(s.iloc[2])\n",
    "\n",
    "# 한 번에 하려면?\n",
    "print(df['Gender'][2])\n",
    "print(df['Gender'].loc[2])\n",
    "print(df['Gender'].iloc[2])"
   ]
  },
  {
   "cell_type": "code",
   "execution_count": 121,
   "metadata": {},
   "outputs": [
    {
     "name": "stdout",
     "output_type": "stream",
     "text": [
      "   Name  Age Gender\n",
      "0  Baek   21      M\n",
      "1   Kim   31      F\n",
      "2  Park   17      F\n",
      "3   Han   41      M\n",
      "4   Lee   51      M \n",
      "\n"
     ]
    }
   ],
   "source": [
    "#여러 Column 선택하기\n",
    "\n",
    "result = df[['Name','Age','Gender']]\n",
    "#result = df.loc[:,['Name','Age','Gender']]\n",
    "#result = df.iloc[:,[0,1,2]]\n",
    "\n",
    "#result = df[['Name':'Gender']] #Error\n",
    "#result = df.loc[:,'Name':'Gender']\n",
    "#result = df.iloc[:,0:3]\n",
    "print(result, '\\n')"
   ]
  },
  {
   "cell_type": "code",
   "execution_count": 122,
   "metadata": {},
   "outputs": [
    {
     "name": "stdout",
     "output_type": "stream",
     "text": [
      "   Name Gender\n",
      "1   Kim      F\n",
      "2  Park      F\n"
     ]
    }
   ],
   "source": [
    "# 특정 Column, Row만 선택하려면?\n",
    "result = df[['Name','Gender']][1:3]\n",
    "#result = df.loc[1:2,['Name','Gender']]\n",
    "#result = df.iloc[1:3,[0,2]]\n",
    "print(result)"
   ]
  },
  {
   "cell_type": "markdown",
   "metadata": {},
   "source": [
    "---\n",
    "## 3.2 DataFrame의 Column을 추가,변경,삭제하기\n",
    "\n",
    "### Column 추가\n",
    "\n",
    "기본 문법\n",
    "\n",
    "```python\n",
    "dataframe[colname] = data\n",
    "```\n",
    "이때, `data` 에는 \n",
    " - Series, 리스트, 딕셔너리, 튜플 등의 1차원 데이터\n",
    " - 혹은 숫자, 문자열 등의 스칼라 값\n",
    "이 들어갈 수 있다"
   ]
  },
  {
   "cell_type": "markdown",
   "metadata": {},
   "source": [
    "#### Example "
   ]
  },
  {
   "cell_type": "code",
   "execution_count": 123,
   "metadata": {},
   "outputs": [
    {
     "name": "stdout",
     "output_type": "stream",
     "text": [
      "   Name  Age Gender  is_student  Weight\n",
      "0  Baek   21      M        True      50\n",
      "1   Kim   31      F       False      55\n",
      "2  Park   17      F        True      60\n",
      "3   Han   41      M       False      65\n",
      "4   Lee   51      M       False      70\n"
     ]
    }
   ],
   "source": [
    "# 1차원 데이터를 이용하여 Weight 컬럼을 DataFrame에 추가\n",
    "df['Weight'] = [50,55,60,65,70]\n",
    "#df['Weight'] = (50,55,60,65,70)\n",
    "#df['Weight'] = pd.Series([50,55,60,65,70])\n",
    "#df['Weight'] = {\n",
    "#    0: 50,\n",
    "#    1: 55,\n",
    "#    2: 60,\n",
    "#    3: 65,\n",
    "#    4: 70\n",
    "#}\n",
    "\n",
    "print(df)"
   ]
  },
  {
   "cell_type": "code",
   "execution_count": 124,
   "metadata": {},
   "outputs": [
    {
     "name": "stdout",
     "output_type": "stream",
     "text": [
      "   Name  Age Gender  is_student  Weight  Height\n",
      "0  Baek   21      M        True      50     160\n",
      "1   Kim   31      F       False      55     170\n",
      "2  Park   17      F        True      60     180\n",
      "3   Han   41      M       False      65     175\n",
      "4   Lee   51      M       False      70     165\n"
     ]
    }
   ],
   "source": [
    "# 1차원 데이터를 이용하여 Height 컬럼을 DataFrame에 추가\n",
    "df['Height'] = [160,170,180,175,165]\n",
    "\n",
    "print(df)"
   ]
  },
  {
   "cell_type": "code",
   "execution_count": 125,
   "metadata": {},
   "outputs": [
    {
     "name": "stdout",
     "output_type": "stream",
     "text": [
      "   Name  Age Gender  is_student  Weight  Height        BMI\n",
      "0  Baek   21      M        True      50     160  19.531250\n",
      "1   Kim   31      F       False      55     170  19.031142\n",
      "2  Park   17      F        True      60     180  18.518519\n",
      "3   Han   41      M       False      65     175  21.224490\n",
      "4   Lee   51      M       False      70     165  25.711662\n"
     ]
    }
   ],
   "source": [
    "# 두개의 Column 값을 사용하여, BMI 컬럼을 DataFrame에 추가\n",
    "df['BMI'] = df['Weight'] / (df['Height'] / 100) ** 2\n",
    "\n",
    "print(df)"
   ]
  },
  {
   "cell_type": "code",
   "execution_count": 126,
   "metadata": {},
   "outputs": [
    {
     "name": "stdout",
     "output_type": "stream",
     "text": [
      "   Name  Age Gender  is_student  Weight  Height        BMI  Need_Diet\n",
      "0  Baek   21      M        True      50     160  19.531250      False\n",
      "1   Kim   31      F       False      55     170  19.031142      False\n",
      "2  Park   17      F        True      60     180  18.518519      False\n",
      "3   Han   41      M       False      65     175  21.224490       True\n",
      "4   Lee   51      M       False      70     165  25.711662       True\n"
     ]
    }
   ],
   "source": [
    "# BMI가 20이 넘는 사람은 True, 20 미만인 사람은 False를 값으로 갖는 'Need_Diet' 컬럼 추가\n",
    "df['Need_Diet'] = df['BMI'] > 20\n",
    "\n",
    "print(df)"
   ]
  },
  {
   "cell_type": "code",
   "execution_count": 127,
   "metadata": {},
   "outputs": [
    {
     "name": "stdout",
     "output_type": "stream",
     "text": [
      "   Name  Age Gender  is_student  Weight  Height        BMI  Need_Diet Country\n",
      "0  Baek   21      M        True      50     160  19.531250      False   Korea\n",
      "1   Kim   31      F       False      55     170  19.031142      False   Korea\n",
      "2  Park   17      F        True      60     180  18.518519      False   Korea\n",
      "3   Han   41      M       False      65     175  21.224490       True   Korea\n",
      "4   Lee   51      M       False      70     165  25.711662       True   Korea\n"
     ]
    }
   ],
   "source": [
    "# 스칼라 값을 이용하여 Country 컬럼을 DataFrame에 추가\n",
    "df['Country'] = 'Korea'\n",
    "print(df)"
   ]
  },
  {
   "cell_type": "markdown",
   "metadata": {},
   "source": [
    "### Column 삭제\n",
    "\n",
    "\n",
    "기본 문법\n",
    "\n",
    "```python\n",
    "del dataframe[colname]\n",
    "dataframe.pop(colname)\n",
    "```"
   ]
  },
  {
   "cell_type": "code",
   "execution_count": 128,
   "metadata": {},
   "outputs": [
    {
     "name": "stdout",
     "output_type": "stream",
     "text": [
      "   Name  Age Gender  is_student  Height        BMI  Need_Diet Country\n",
      "0  Baek   21      M        True     160  19.531250      False   Korea\n",
      "1   Kim   31      F       False     170  19.031142      False   Korea\n",
      "2  Park   17      F        True     180  18.518519      False   Korea\n",
      "3   Han   41      M       False     175  21.224490       True   Korea\n",
      "4   Lee   51      M       False     165  25.711662       True   Korea\n"
     ]
    }
   ],
   "source": [
    "# del 을 이용하여 Weight 컬럼 삭제\n",
    "del df['Weight']\n",
    "print(df)"
   ]
  },
  {
   "cell_type": "code",
   "execution_count": 129,
   "metadata": {},
   "outputs": [
    {
     "name": "stdout",
     "output_type": "stream",
     "text": [
      "   Name  Age Gender  is_student        BMI  Need_Diet Country\n",
      "0  Baek   21      M        True  19.531250      False   Korea\n",
      "1   Kim   31      F       False  19.031142      False   Korea\n",
      "2  Park   17      F        True  18.518519      False   Korea\n",
      "3   Han   41      M       False  21.224490       True   Korea\n",
      "4   Lee   51      M       False  25.711662       True   Korea \n",
      "\n",
      "0    160\n",
      "1    170\n",
      "2    180\n",
      "3    175\n",
      "4    165\n",
      "Name: Height, dtype: int64\n"
     ]
    }
   ],
   "source": [
    "# pop을 이용하여 Height 컬럼 삭제\n",
    "# s 변수에 지워진 Height 컬럼이 할당된다\n",
    "s = df.pop('Height')\n",
    "print(df, '\\n')\n",
    "print(s)"
   ]
  },
  {
   "cell_type": "markdown",
   "metadata": {},
   "source": [
    "### apply 함수\n",
    "\n",
    "기본 문법\n",
    "\n",
    "```python\n",
    "dataframe.apply(function, axis=0)\n",
    "```\n",
    "\n",
    "이때, `function` 에는 (람다)함수가 들어갈 수 있다.\n",
    "\n",
    "axis가 0일땐 `function` 에 column 단위로 데이터가 전달되고,\n",
    "\n",
    "axis가 1일땐 `function` 에 row 단위로 데이터가 전달된다.\n",
    "\n",
    "\n",
    "\n",
    "\n",
    "//TODO : Axis 그림 추가\n",
    "\n",
    "\n",
    "#### Example\n",
    "새로운 계산법을 적용하여 Need_Diet 컬럼 내용을 변경\n",
    "새로운 계산법 : \n",
    " - Age가 30 이상이면 BMI에 1.1을 곱하고\n",
    " - Gender가 M 이라면 다시 결과값에 1.1을 곱한다\n",
    " - 최종 결과값이 20 이상이라면 Need_Diet를 True로 설정, 아니라면 False로 설정"
   ]
  },
  {
   "cell_type": "code",
   "execution_count": 130,
   "metadata": {},
   "outputs": [
    {
     "name": "stdout",
     "output_type": "stream",
     "text": [
      "   Name  Age Gender  is_student        BMI  Need_Diet Country\n",
      "0  Baek   21      M        True  19.531250       True   Korea\n",
      "1   Kim   31      F       False  19.031142       True   Korea\n",
      "2  Park   17      F        True  18.518519      False   Korea\n",
      "3   Han   41      M       False  21.224490       True   Korea\n",
      "4   Lee   51      M       False  25.711662       True   Korea\n"
     ]
    }
   ],
   "source": [
    "def myfunc(x):\n",
    "    result = x['BMI']\n",
    "    \n",
    "    if x['Age'] >= 30 :\n",
    "        result *= 1.1\n",
    "    if x['Gender'] == 'M' :\n",
    "        result *= 1.1\n",
    "    \n",
    "    if result >= 20 :\n",
    "        return True\n",
    "    else :\n",
    "        return False\n",
    "\n",
    "df['Need_Diet'] = df.apply(myfunc, axis=1)\n",
    "print(df)"
   ]
  },
  {
   "cell_type": "markdown",
   "metadata": {},
   "source": [
    "### DataFrame 합치기 (Concatenate)\n",
    "\n",
    "\n",
    " - concat 함수는 두개 이상의 DataFrame을 단순히 합친다.\n",
    " - 비슷한 동작을 하는 함수로는 merge, join함수가 있으며, 2일차 강의에 다룰 예정\n",
    "\n",
    "\n",
    "기본 문법\n",
    "\n",
    "```python\n",
    "pd.concat([list of DataFrame], axis=0)\n",
    "```\n",
    "\n",
    "#### Example"
   ]
  },
  {
   "cell_type": "code",
   "execution_count": 131,
   "metadata": {},
   "outputs": [
    {
     "name": "stdout",
     "output_type": "stream",
     "text": [
      "   Name  Age Gender  is_student\n",
      "0  Baek   21      M        True\n",
      "1   Kim   31      F       False\n",
      "2  Park   17      F        True\n",
      "3   Han   41      M       False\n",
      "4   Lee   51      M       False\n",
      "         BMI  Need_Diet Country\n",
      "0  19.531250       True   Korea\n",
      "1  19.031142       True   Korea\n",
      "2  18.518519      False   Korea\n",
      "3  21.224490       True   Korea\n",
      "4  25.711662       True   Korea\n",
      "   Name  Age Gender  is_student        BMI  Need_Diet Country\n",
      "0  Baek   21      M        True  19.531250       True   Korea\n",
      "1   Kim   31      F       False  19.031142       True   Korea\n",
      "2  Park   17      F        True  18.518519      False   Korea\n",
      "3   Han   41      M       False  21.224490       True   Korea\n",
      "4   Lee   51      M       False  25.711662       True   Korea\n"
     ]
    }
   ],
   "source": [
    "# DataFrame을 세로축으로 나누고, 다시 합하기\n",
    "df1 = df.loc[:,:'is_student']\n",
    "df2 = df.loc[:,'BMI':]\n",
    "\n",
    "print(df1)\n",
    "print(df2)\n",
    "\n",
    "df3 = pd.concat([df1,df2], axis=1)\n",
    "\n",
    "print(df3)"
   ]
  },
  {
   "cell_type": "code",
   "execution_count": 132,
   "metadata": {},
   "outputs": [
    {
     "name": "stdout",
     "output_type": "stream",
     "text": [
      "   Name  Age Gender  is_student        BMI  Need_Diet Country\n",
      "0  Baek   21      M        True  19.531250       True   Korea\n",
      "1   Kim   31      F       False  19.031142       True   Korea\n",
      "2  Park   17      F        True  18.518519      False   Korea\n",
      "  Name  Age Gender  is_student        BMI  Need_Diet Country\n",
      "3  Han   41      M       False  21.224490       True   Korea\n",
      "4  Lee   51      M       False  25.711662       True   Korea\n",
      "   Name  Age Gender  is_student        BMI  Need_Diet Country\n",
      "0  Baek   21      M        True  19.531250       True   Korea\n",
      "1   Kim   31      F       False  19.031142       True   Korea\n",
      "2  Park   17      F        True  18.518519      False   Korea\n",
      "3   Han   41      M       False  21.224490       True   Korea\n",
      "4   Lee   51      M       False  25.711662       True   Korea\n"
     ]
    }
   ],
   "source": [
    "# DataFrame을 가로축으로 나누고, 다시 합하기\n",
    "df1 = df.loc[:2]\n",
    "df2 = df.loc[3:]\n",
    "\n",
    "print(df1)\n",
    "print(df2)\n",
    "\n",
    "df3 = pd.concat([df1,df2], axis=0)\n",
    "\n",
    "print(df3)"
   ]
  },
  {
   "cell_type": "code",
   "execution_count": 133,
   "metadata": {},
   "outputs": [
    {
     "name": "stdout",
     "output_type": "stream",
     "text": [
      "   Name  Age Gender  is_student        BMI  Need_Diet Country\n",
      "0  Baek   21      M        True  19.531250       True   Korea\n",
      "1   Kim   31      F       False  19.031142       True   Korea\n",
      "2  Park   17      F        True  18.518519      False   Korea\n",
      "3   Han   41      M       False  21.224490       True   Korea\n",
      "4   Lee   51      M       False  25.711662       True   Korea\n",
      "0  Baek   21      M        True  19.531250       True   Korea\n",
      "1   Kim   31      F       False  19.031142       True   Korea\n",
      "2  Park   17      F        True  18.518519      False   Korea\n",
      "3   Han   41      M       False  21.224490       True   Korea\n",
      "4   Lee   51      M       False  25.711662       True   Korea\n"
     ]
    }
   ],
   "source": [
    "# Index가 겹칠 경우\n",
    "df3 = pd.concat([df,df], axis=0)\n",
    "print(df3)"
   ]
  },
  {
   "cell_type": "code",
   "execution_count": 134,
   "metadata": {},
   "outputs": [
    {
     "name": "stdout",
     "output_type": "stream",
     "text": [
      "   Name  Age Gender  is_student        BMI  Need_Diet Country\n",
      "0  Baek   21      M        True  19.531250       True   Korea\n",
      "1   Kim   31      F       False  19.031142       True   Korea\n",
      "2  Park   17      F        True  18.518519      False   Korea\n",
      "3   Han   41      M       False  21.224490       True   Korea\n",
      "4   Lee   51      M       False  25.711662       True   Korea\n",
      "5  Baek   21      M        True  19.531250       True   Korea\n",
      "6   Kim   31      F       False  19.031142       True   Korea\n",
      "7  Park   17      F        True  18.518519      False   Korea\n",
      "8   Han   41      M       False  21.224490       True   Korea\n",
      "9   Lee   51      M       False  25.711662       True   Korea\n"
     ]
    }
   ],
   "source": [
    "df3 = pd.concat([df,df], axis=0, ignore_index=True)\n",
    "print(df3)"
   ]
  },
  {
   "cell_type": "markdown",
   "metadata": {},
   "source": [
    "### head와 tail 함수\n",
    "\n",
    " - head함수는 DataFrame의 첫 n행을 출력\n",
    " - tail함수는 DataFrame의 마지막 n행을 출력\n",
    "\n",
    "\n",
    "기본 문법\n",
    "\n",
    "```python\n",
    "df.head(number=5)\n",
    "df.tail(number=5)\n",
    "```\n",
    "\n",
    "#### Example"
   ]
  },
  {
   "cell_type": "code",
   "execution_count": 135,
   "metadata": {},
   "outputs": [
    {
     "data": {
      "text/html": [
       "<div>\n",
       "<style scoped>\n",
       "    .dataframe tbody tr th:only-of-type {\n",
       "        vertical-align: middle;\n",
       "    }\n",
       "\n",
       "    .dataframe tbody tr th {\n",
       "        vertical-align: top;\n",
       "    }\n",
       "\n",
       "    .dataframe thead th {\n",
       "        text-align: right;\n",
       "    }\n",
       "</style>\n",
       "<table border=\"1\" class=\"dataframe\">\n",
       "  <thead>\n",
       "    <tr style=\"text-align: right;\">\n",
       "      <th></th>\n",
       "      <th>Name</th>\n",
       "      <th>Age</th>\n",
       "      <th>Gender</th>\n",
       "      <th>is_student</th>\n",
       "      <th>BMI</th>\n",
       "      <th>Need_Diet</th>\n",
       "      <th>Country</th>\n",
       "    </tr>\n",
       "  </thead>\n",
       "  <tbody>\n",
       "    <tr>\n",
       "      <th>0</th>\n",
       "      <td>Baek</td>\n",
       "      <td>21</td>\n",
       "      <td>M</td>\n",
       "      <td>True</td>\n",
       "      <td>19.531250</td>\n",
       "      <td>True</td>\n",
       "      <td>Korea</td>\n",
       "    </tr>\n",
       "    <tr>\n",
       "      <th>1</th>\n",
       "      <td>Kim</td>\n",
       "      <td>31</td>\n",
       "      <td>F</td>\n",
       "      <td>False</td>\n",
       "      <td>19.031142</td>\n",
       "      <td>True</td>\n",
       "      <td>Korea</td>\n",
       "    </tr>\n",
       "    <tr>\n",
       "      <th>2</th>\n",
       "      <td>Park</td>\n",
       "      <td>17</td>\n",
       "      <td>F</td>\n",
       "      <td>True</td>\n",
       "      <td>18.518519</td>\n",
       "      <td>False</td>\n",
       "      <td>Korea</td>\n",
       "    </tr>\n",
       "    <tr>\n",
       "      <th>3</th>\n",
       "      <td>Han</td>\n",
       "      <td>41</td>\n",
       "      <td>M</td>\n",
       "      <td>False</td>\n",
       "      <td>21.224490</td>\n",
       "      <td>True</td>\n",
       "      <td>Korea</td>\n",
       "    </tr>\n",
       "    <tr>\n",
       "      <th>4</th>\n",
       "      <td>Lee</td>\n",
       "      <td>51</td>\n",
       "      <td>M</td>\n",
       "      <td>False</td>\n",
       "      <td>25.711662</td>\n",
       "      <td>True</td>\n",
       "      <td>Korea</td>\n",
       "    </tr>\n",
       "  </tbody>\n",
       "</table>\n",
       "</div>"
      ],
      "text/plain": [
       "   Name  Age Gender  is_student        BMI  Need_Diet Country\n",
       "0  Baek   21      M        True  19.531250       True   Korea\n",
       "1   Kim   31      F       False  19.031142       True   Korea\n",
       "2  Park   17      F        True  18.518519      False   Korea\n",
       "3   Han   41      M       False  21.224490       True   Korea\n",
       "4   Lee   51      M       False  25.711662       True   Korea"
      ]
     },
     "execution_count": 135,
     "metadata": {},
     "output_type": "execute_result"
    }
   ],
   "source": [
    "#첫 5행 출력\n",
    "df3.head()"
   ]
  },
  {
   "cell_type": "code",
   "execution_count": 136,
   "metadata": {},
   "outputs": [
    {
     "data": {
      "text/html": [
       "<div>\n",
       "<style scoped>\n",
       "    .dataframe tbody tr th:only-of-type {\n",
       "        vertical-align: middle;\n",
       "    }\n",
       "\n",
       "    .dataframe tbody tr th {\n",
       "        vertical-align: top;\n",
       "    }\n",
       "\n",
       "    .dataframe thead th {\n",
       "        text-align: right;\n",
       "    }\n",
       "</style>\n",
       "<table border=\"1\" class=\"dataframe\">\n",
       "  <thead>\n",
       "    <tr style=\"text-align: right;\">\n",
       "      <th></th>\n",
       "      <th>Name</th>\n",
       "      <th>Age</th>\n",
       "      <th>Gender</th>\n",
       "      <th>is_student</th>\n",
       "      <th>BMI</th>\n",
       "      <th>Need_Diet</th>\n",
       "      <th>Country</th>\n",
       "    </tr>\n",
       "  </thead>\n",
       "  <tbody>\n",
       "    <tr>\n",
       "      <th>5</th>\n",
       "      <td>Baek</td>\n",
       "      <td>21</td>\n",
       "      <td>M</td>\n",
       "      <td>True</td>\n",
       "      <td>19.531250</td>\n",
       "      <td>True</td>\n",
       "      <td>Korea</td>\n",
       "    </tr>\n",
       "    <tr>\n",
       "      <th>6</th>\n",
       "      <td>Kim</td>\n",
       "      <td>31</td>\n",
       "      <td>F</td>\n",
       "      <td>False</td>\n",
       "      <td>19.031142</td>\n",
       "      <td>True</td>\n",
       "      <td>Korea</td>\n",
       "    </tr>\n",
       "    <tr>\n",
       "      <th>7</th>\n",
       "      <td>Park</td>\n",
       "      <td>17</td>\n",
       "      <td>F</td>\n",
       "      <td>True</td>\n",
       "      <td>18.518519</td>\n",
       "      <td>False</td>\n",
       "      <td>Korea</td>\n",
       "    </tr>\n",
       "    <tr>\n",
       "      <th>8</th>\n",
       "      <td>Han</td>\n",
       "      <td>41</td>\n",
       "      <td>M</td>\n",
       "      <td>False</td>\n",
       "      <td>21.224490</td>\n",
       "      <td>True</td>\n",
       "      <td>Korea</td>\n",
       "    </tr>\n",
       "    <tr>\n",
       "      <th>9</th>\n",
       "      <td>Lee</td>\n",
       "      <td>51</td>\n",
       "      <td>M</td>\n",
       "      <td>False</td>\n",
       "      <td>25.711662</td>\n",
       "      <td>True</td>\n",
       "      <td>Korea</td>\n",
       "    </tr>\n",
       "  </tbody>\n",
       "</table>\n",
       "</div>"
      ],
      "text/plain": [
       "   Name  Age Gender  is_student        BMI  Need_Diet Country\n",
       "5  Baek   21      M        True  19.531250       True   Korea\n",
       "6   Kim   31      F       False  19.031142       True   Korea\n",
       "7  Park   17      F        True  18.518519      False   Korea\n",
       "8   Han   41      M       False  21.224490       True   Korea\n",
       "9   Lee   51      M       False  25.711662       True   Korea"
      ]
     },
     "execution_count": 136,
     "metadata": {},
     "output_type": "execute_result"
    }
   ],
   "source": [
    "#마지막 5행 출력\n",
    "df3.tail()"
   ]
  },
  {
   "cell_type": "code",
   "execution_count": 137,
   "metadata": {},
   "outputs": [
    {
     "data": {
      "text/html": [
       "<div>\n",
       "<style scoped>\n",
       "    .dataframe tbody tr th:only-of-type {\n",
       "        vertical-align: middle;\n",
       "    }\n",
       "\n",
       "    .dataframe tbody tr th {\n",
       "        vertical-align: top;\n",
       "    }\n",
       "\n",
       "    .dataframe thead th {\n",
       "        text-align: right;\n",
       "    }\n",
       "</style>\n",
       "<table border=\"1\" class=\"dataframe\">\n",
       "  <thead>\n",
       "    <tr style=\"text-align: right;\">\n",
       "      <th></th>\n",
       "      <th>Name</th>\n",
       "      <th>Age</th>\n",
       "      <th>Gender</th>\n",
       "      <th>is_student</th>\n",
       "      <th>BMI</th>\n",
       "      <th>Need_Diet</th>\n",
       "      <th>Country</th>\n",
       "    </tr>\n",
       "  </thead>\n",
       "  <tbody>\n",
       "    <tr>\n",
       "      <th>0</th>\n",
       "      <td>Baek</td>\n",
       "      <td>21</td>\n",
       "      <td>M</td>\n",
       "      <td>True</td>\n",
       "      <td>19.531250</td>\n",
       "      <td>True</td>\n",
       "      <td>Korea</td>\n",
       "    </tr>\n",
       "    <tr>\n",
       "      <th>1</th>\n",
       "      <td>Kim</td>\n",
       "      <td>31</td>\n",
       "      <td>F</td>\n",
       "      <td>False</td>\n",
       "      <td>19.031142</td>\n",
       "      <td>True</td>\n",
       "      <td>Korea</td>\n",
       "    </tr>\n",
       "    <tr>\n",
       "      <th>2</th>\n",
       "      <td>Park</td>\n",
       "      <td>17</td>\n",
       "      <td>F</td>\n",
       "      <td>True</td>\n",
       "      <td>18.518519</td>\n",
       "      <td>False</td>\n",
       "      <td>Korea</td>\n",
       "    </tr>\n",
       "  </tbody>\n",
       "</table>\n",
       "</div>"
      ],
      "text/plain": [
       "   Name  Age Gender  is_student        BMI  Need_Diet Country\n",
       "0  Baek   21      M        True  19.531250       True   Korea\n",
       "1   Kim   31      F       False  19.031142       True   Korea\n",
       "2  Park   17      F        True  18.518519      False   Korea"
      ]
     },
     "execution_count": 137,
     "metadata": {},
     "output_type": "execute_result"
    }
   ],
   "source": [
    "#첫 3행 출력\n",
    "df3.head(3)"
   ]
  },
  {
   "cell_type": "code",
   "execution_count": 138,
   "metadata": {},
   "outputs": [
    {
     "data": {
      "text/html": [
       "<div>\n",
       "<style scoped>\n",
       "    .dataframe tbody tr th:only-of-type {\n",
       "        vertical-align: middle;\n",
       "    }\n",
       "\n",
       "    .dataframe tbody tr th {\n",
       "        vertical-align: top;\n",
       "    }\n",
       "\n",
       "    .dataframe thead th {\n",
       "        text-align: right;\n",
       "    }\n",
       "</style>\n",
       "<table border=\"1\" class=\"dataframe\">\n",
       "  <thead>\n",
       "    <tr style=\"text-align: right;\">\n",
       "      <th></th>\n",
       "      <th>Name</th>\n",
       "      <th>Age</th>\n",
       "      <th>Gender</th>\n",
       "      <th>is_student</th>\n",
       "      <th>BMI</th>\n",
       "      <th>Need_Diet</th>\n",
       "      <th>Country</th>\n",
       "    </tr>\n",
       "  </thead>\n",
       "  <tbody>\n",
       "    <tr>\n",
       "      <th>0</th>\n",
       "      <td>Baek</td>\n",
       "      <td>21</td>\n",
       "      <td>M</td>\n",
       "      <td>True</td>\n",
       "      <td>19.531250</td>\n",
       "      <td>True</td>\n",
       "      <td>Korea</td>\n",
       "    </tr>\n",
       "    <tr>\n",
       "      <th>1</th>\n",
       "      <td>Kim</td>\n",
       "      <td>31</td>\n",
       "      <td>F</td>\n",
       "      <td>False</td>\n",
       "      <td>19.031142</td>\n",
       "      <td>True</td>\n",
       "      <td>Korea</td>\n",
       "    </tr>\n",
       "    <tr>\n",
       "      <th>2</th>\n",
       "      <td>Park</td>\n",
       "      <td>17</td>\n",
       "      <td>F</td>\n",
       "      <td>True</td>\n",
       "      <td>18.518519</td>\n",
       "      <td>False</td>\n",
       "      <td>Korea</td>\n",
       "    </tr>\n",
       "    <tr>\n",
       "      <th>3</th>\n",
       "      <td>Han</td>\n",
       "      <td>41</td>\n",
       "      <td>M</td>\n",
       "      <td>False</td>\n",
       "      <td>21.224490</td>\n",
       "      <td>True</td>\n",
       "      <td>Korea</td>\n",
       "    </tr>\n",
       "    <tr>\n",
       "      <th>4</th>\n",
       "      <td>Lee</td>\n",
       "      <td>51</td>\n",
       "      <td>M</td>\n",
       "      <td>False</td>\n",
       "      <td>25.711662</td>\n",
       "      <td>True</td>\n",
       "      <td>Korea</td>\n",
       "    </tr>\n",
       "    <tr>\n",
       "      <th>5</th>\n",
       "      <td>Baek</td>\n",
       "      <td>21</td>\n",
       "      <td>M</td>\n",
       "      <td>True</td>\n",
       "      <td>19.531250</td>\n",
       "      <td>True</td>\n",
       "      <td>Korea</td>\n",
       "    </tr>\n",
       "    <tr>\n",
       "      <th>6</th>\n",
       "      <td>Kim</td>\n",
       "      <td>31</td>\n",
       "      <td>F</td>\n",
       "      <td>False</td>\n",
       "      <td>19.031142</td>\n",
       "      <td>True</td>\n",
       "      <td>Korea</td>\n",
       "    </tr>\n",
       "    <tr>\n",
       "      <th>7</th>\n",
       "      <td>Park</td>\n",
       "      <td>17</td>\n",
       "      <td>F</td>\n",
       "      <td>True</td>\n",
       "      <td>18.518519</td>\n",
       "      <td>False</td>\n",
       "      <td>Korea</td>\n",
       "    </tr>\n",
       "    <tr>\n",
       "      <th>8</th>\n",
       "      <td>Han</td>\n",
       "      <td>41</td>\n",
       "      <td>M</td>\n",
       "      <td>False</td>\n",
       "      <td>21.224490</td>\n",
       "      <td>True</td>\n",
       "      <td>Korea</td>\n",
       "    </tr>\n",
       "  </tbody>\n",
       "</table>\n",
       "</div>"
      ],
      "text/plain": [
       "   Name  Age Gender  is_student        BMI  Need_Diet Country\n",
       "0  Baek   21      M        True  19.531250       True   Korea\n",
       "1   Kim   31      F       False  19.031142       True   Korea\n",
       "2  Park   17      F        True  18.518519      False   Korea\n",
       "3   Han   41      M       False  21.224490       True   Korea\n",
       "4   Lee   51      M       False  25.711662       True   Korea\n",
       "5  Baek   21      M        True  19.531250       True   Korea\n",
       "6   Kim   31      F       False  19.031142       True   Korea\n",
       "7  Park   17      F        True  18.518519      False   Korea\n",
       "8   Han   41      M       False  21.224490       True   Korea"
      ]
     },
     "execution_count": 138,
     "metadata": {},
     "output_type": "execute_result"
    }
   ],
   "source": [
    "#마지막 행을 제외하고 모두 출력\n",
    "df3.head(-1)"
   ]
  }
 ],
 "metadata": {
  "kernelspec": {
   "display_name": "Python 3",
   "language": "python",
   "name": "python3"
  },
  "language_info": {
   "codemirror_mode": {
    "name": "ipython",
    "version": 3
   },
   "file_extension": ".py",
   "mimetype": "text/x-python",
   "name": "python",
   "nbconvert_exporter": "python",
   "pygments_lexer": "ipython3",
   "version": "3.7.3"
  }
 },
 "nbformat": 4,
 "nbformat_minor": 2
}
