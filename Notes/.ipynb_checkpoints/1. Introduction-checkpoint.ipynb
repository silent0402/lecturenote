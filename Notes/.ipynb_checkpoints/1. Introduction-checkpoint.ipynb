{
 "cells": [
  {
   "cell_type": "markdown",
   "metadata": {},
   "source": [
    "# <Pandas 튜토리얼>\n",
    "\n",
    "## 서울대학교 백재원"
   ]
  },
  {
   "cell_type": "markdown",
   "metadata": {},
   "source": [
    "# 1. Introduction"
   ]
  },
  {
   "cell_type": "markdown",
   "metadata": {},
   "source": [
    "## Data Science란?\n",
    "\n",
    "무질서한 데이터로부터 의미 있는 결과(모델) 을 도출하는 과정\n"
   ]
  },
  {
   "cell_type": "markdown",
   "metadata": {
    "slideshow": {
     "slide_type": "slide"
    }
   },
   "source": [
    "## Data Science의 프로세스\n",
    "\n",
    "1. 문제 정의\n",
    "2. 데이터 수집\n",
    "3. __데이터 선정 및 추출__\n",
    "4. __데이터 전처리__\n",
    "5. __데이터 탐색 (statistics, visualization)__\n",
    "6. 데이터 분석 - 모델링 (regression, clustering, deep learning ....)\n",
    "7. 모델 평가\n",
    "8. 결과물 도출"
   ]
  },
  {
   "cell_type": "markdown",
   "metadata": {},
   "source": [
    "\n",
    "\n",
    "### 1. 문제 정의\n",
    " - 팀 미팅. hard thinking\n",
    " \n",
    " \n",
    "### 2. 데이터 생산/수집\n",
    " - sensor, camera (생산)\n",
    " - web crawling, download (수집)\n",
    " \n",
    "문제를 먼저 정의하고 문제 해결에 필요한 데이터를 수집할 수도 있지만 그 순서가 반대가 될 수도 있다.\n",
    "\n",
    " - 예: 2017, 2018년의 날씨와 야구 관중수의 상관관계를 분석하고 싶다 -> 기상청 날씨 데이터, KBO 관중현황 데이터 확보\n",
    " - 예: 플라스틱 공장에서 5년간의 사출기 센서 데이터 수집 -> 분기별 생산량 분석 / 사출기 고장예측 모델\n",
    "\n",
    "\n"
   ]
  },
  {
   "cell_type": "markdown",
   "metadata": {},
   "source": [
    "### 3. 데이터 전처리\n",
    " - parsing (예 : html문서로부터 text 데이터만 뽑아내거나, csv 파일을 파싱하여 파이썬 변수에 할당 등...)\n",
    " - aggregation (시계열 데이터)\n",
    " - resize (이미지)\n",
    " - data cleansing (센서 데이터)\n",
    "\n",
    "\n",
    "### 4. 데이터 탐색\n",
    " - count, min, max, avg, 등의 간단한 통계\n",
    " - Missing data check\n",
    " - Data type check, category 파악\n",
    " - 시각화\n",
    "\n",
    "\n"
   ]
  },
  {
   "cell_type": "markdown",
   "metadata": {},
   "source": [
    "### 5. 데이터 분석 및 모델링\n",
    "\n",
    " - 머신 러닝, 딥 러닝\n",
    " - 알고리즘 : regression, clustering, decision tree, Neural network\n",
    " - 응용분야 : 예측 (기상, 주식, 이상징후 등등..), 자율주행 자동차, Speech to Text\n",
    " - TensorFlow, Caffe, PyTorch, Keras, Spark ML ...\n",
    " "
   ]
  },
  {
   "cell_type": "markdown",
   "metadata": {},
   "source": [
    "### 6. 모델 평가\n",
    "\n",
    " - 완성한 모델이 우리가 정의한 문제를 잘 풀어내는가\n",
    " - 모델이 얼마나 정확하게 동작하는가\n",
    " - 모델이 우리가 원하던 정보를 제공하는가\n",
    " - 모델의 동작이 얼마나 빠른가\n",
    " - .....\n",
    " - 만족할 만한 결과가 나오지 않았다면 다시 앞 Step을 반복\n",
    "\n",
    "\n",
    "### 7. 결과물 도출\n",
    " - 서비스 / 어플리케이션\n",
    " - 분석 보고서\n",
    " - 시각화"
   ]
  },
  {
   "cell_type": "markdown",
   "metadata": {
    "slideshow": {
     "slide_type": "slide"
    }
   },
   "source": [
    "## Pandas 소개\n",
    "\n",
    "\n",
    "### Pandas란\n",
    " - 오픈소스 파이썬 라이브러리\n",
    " - 사용하기 쉽고, 빠른 데이터 구조(Series, DataFrame)와\n",
    " - 데이터 분석 도구를 제공\n",
    "\n",
    "### Pandas Documentation\n",
    " - https://pandas.pydata.org/pandas-docs/stable/index.html#\n",
    " - 이후 강의에서 다루는 Pandas의 개념 혹은 함수명 등은 documentation에 있는 영문을 최대한 그대로 사용\n",
    "\n",
    "### 강의 목차\n",
    "1. Pandas의 데이터 구조 (Series와 DataFrame)\n",
    "2. 데이터 선택 및 조작하기\n",
    "3. Statistical Functions, Join\n",
    "4. Aggregation (Group by)\n",
    "5. 실습: 한국프로야구 관중현황 데이터 분석"
   ]
  }
 ],
 "metadata": {
  "celltoolbar": "Slideshow",
  "kernelspec": {
   "display_name": "Python 3",
   "language": "python",
   "name": "python3"
  },
  "language_info": {
   "codemirror_mode": {
    "name": "ipython",
    "version": 3
   },
   "file_extension": ".py",
   "mimetype": "text/x-python",
   "name": "python",
   "nbconvert_exporter": "python",
   "pygments_lexer": "ipython3",
   "version": "3.7.3"
  }
 },
 "nbformat": 4,
 "nbformat_minor": 2
}
