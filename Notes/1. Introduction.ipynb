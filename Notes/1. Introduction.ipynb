{
 "cells": [
  {
   "cell_type": "markdown",
   "metadata": {},
   "source": [
    "# <Pandas 튜토리얼>\n",
    "\n",
    "## 서울대학교 백재원"
   ]
  },
  {
   "cell_type": "markdown",
   "metadata": {},
   "source": [
    "# 1. Introduction"
   ]
  },
  {
   "cell_type": "markdown",
   "metadata": {},
   "source": [
    "## Data Science란?\n",
    "\n",
    "무질서한 데이터로부터 의미 있는 결과(모델) 을 도출하는 과정\n"
   ]
  },
  {
   "cell_type": "markdown",
   "metadata": {
    "slideshow": {
     "slide_type": "slide"
    }
   },
   "source": [
    "## Data Science의 일반적인 프로세스\n",
    "\n",
    "1. 문제 정의\n",
    "2. 데이터 수집\n",
    "3. 데이터 선정 및 추출\n",
    "4. 데이터 전처리\n",
    "5. 데이터 탐색 (statistics, visualization)\n",
    "6. 데이터 분석 - 모델링 (regression, clustering, deep learning ....)\n",
    "7. 모델 평가\n",
    "8. 결과물 도출\n",
    "\n",
    "첫 시간에는 전반적인 data science process에 대해 간략하게 설명하고,\n",
    "그후 1일차에는 3번, 4번 과정에 집중하여 pandas라는 파이썬 라이브러리를 이용하여 데이터를 처리하고, 탐색하는 방법에 대해 강의할것\n",
    "2일차에는 직접 간단한 data science problem을 가지고, 1~7번까지의 전체 과정을 여러분이 직접 코드를 step by step으로 완성하는 실습시간을 가질예정.\n",
    "//TODO : 그림으로."
   ]
  },
  {
   "cell_type": "markdown",
   "metadata": {},
   "source": [
    "\n",
    "\n",
    "1. 문제 정의\n",
    " - 팀 미팅. hard thinking\n",
    " \n",
    "2. 데이터 생산/수집\n",
    " - sensor, camera (생산)\n",
    " - web crawling, download (수집)\n",
    " \n",
    "문제를 먼저 정의하고 문제 해결에 필요한 데이터를 수집할 수도 있지만\n",
    "그 순서가 반대가 될 수도 있음.\n",
    "\n",
    "ex) 2010년 부터 2018년까지의 날씨와 야구 관중수의 상관관계를 분석하고 싶다 -> 기상청 날씨 데이터, KBO 관중현황 데이터 확보\n",
    "\n",
    "ex) 플라스틱 공장, 5년간의 사출기 센서 데이터 -> 분기별 생산량 분석 / 사출기 고장예측 모델\n",
    "\n",
    "\n"
   ]
  },
  {
   "cell_type": "markdown",
   "metadata": {},
   "source": [
    "Web crawling\n",
    "\n",
    "\n",
    "데이터 수집의 대표적 방법 중 하나\n",
    "수강신청, 티켓팅에도 유용하게 사용가능\n",
    "\n",
    " - 시나리오 설명\n",
    " - 간단한 example 보여주기\n",
    "\n",
    "(실습 및 자세한 설명 없이 관중데이터나 기상데이터 크롤링하는 예제 빠르게 10분 전후로. 기본개념만.)\n"
   ]
  },
  {
   "cell_type": "markdown",
   "metadata": {},
   "source": [
    "3. 데이터 전처리\n",
    "parsing (ex - html문서로부터 text 데이터만 뽑아내거나, csv 파일을 파싱하여 파이썬 변수에 list로 할당 등...)\n",
    "aggregation (보통 시계열 데이터)\n",
    "resize (이미지 같은 데이터의 경우)\n",
    "\n",
    "data cleansing (빈 값 채우기)\n",
    "\n",
    "4. 데이터 탐색\n",
    "\n",
    "기본적인 통계. 주로 aggregation\n",
    "count, min, max, avg, grouping\n",
    "type check, category 파악\n",
    "\n",
    "시각화 - (data 분포 보고 음 이 데이터에 대해 linear regression하면 유의미한 결과가 있겠군) - matplotlib 5일차에 할 예정\n",
    "\n",
    "\n",
    "\n",
    "numpy, pandas, sql, spark 등등등\n"
   ]
  },
  {
   "cell_type": "markdown",
   "metadata": {},
   "source": [
    "5. 데이터 분석 및 모델링\n",
    "\n",
    "machine learning, deep learning\n",
    "\n",
    "forecasting, self-driving car\n",
    "\n",
    "regression, clustering, decision tree, Neural network\n",
    "\n",
    "\n",
    "various prediction application, anomaly detection, \n",
    "image classification, speech to text, translation, self-driving car\n",
    "\n",
    "model : could be ml/dl model (인공지능 모델),\n",
    "but complicated modeling is not always necessary.\n",
    "\n",
    "simple analysis with insight could also be really useful.x\n",
    "\n",
    "\n",
    "tensorflow, caffe, pytorch, keras, spark ml ..."
   ]
  },
  {
   "cell_type": "markdown",
   "metadata": {},
   "source": [
    "6. 모델 평가\n",
    "\n",
    "완성한 모델이 우리가 정의한 문제를 잘 풀어내는가\n",
    " 모델이 얼마나 정확하게 동작하냐.\n",
    " 모델이 우리가 원하던 정보를 제공하는가\n",
    " 모델의 동작이 얼마나 빠른가\n",
    " .....\n",
    "\n",
    "\n",
    " \n",
    "결과에 따라 다시 앞 step 반복\n",
    "\n",
    "7. 결과물 도출\n",
    " - service / application\n",
    " - report 분석 보고서\n",
    " - visualization\n",
    " \n",
    " google... 그...그림그리는거 quickdraw\n",
    " visualization : example (link)\n",
    " 활용 예시 (상업/공업 예시)"
   ]
  },
  {
   "cell_type": "markdown",
   "metadata": {
    "slideshow": {
     "slide_type": "slide"
    }
   },
   "source": [
    "## Pandas 소개\n",
    "\n",
    "\n",
    " - Pandas란\n",
    " - 뭘 잘하고\n",
    " - 어떤 경우에 사용하고\n",
    " - 유사한 다른 library와의 차이는 어떤 것이 있고\n",
    " - 이후 강의 내용 Overview (목차)\n",
    " - Pandas Documentation\n",
    " \n",
    "\n",
    "제한된 시간 동안 pandas의 기능들을 완벽하게 다룰 수는 없음.\n",
    "\n",
    "각 기능들을 자세하게 설명하고, 실습하기 보다는\n",
    "자주 쓰이는 기능들을 최대한 많이 '소개' 한다는 느낌으로 설명할 예정.\n",
    "'Pandas는 이런이런 일을 할 수 있구나' 라는 것만 알고 있다면 documentation 찾아가면서 혼자 충분히 사용할 수 있을것.\n",
    "\n",
    "이후 다룰 pandas의 개념, 함수명 등등은 굳이 한글로 번역하지 않고, documentation에 있는 영문 그대로 사용할것임.\n",
    "\n",
    " \n",
    " \n",
    " \n",
    " \n",
    " Introduction 끝"
   ]
  }
 ],
 "metadata": {
  "celltoolbar": "Slideshow",
  "kernelspec": {
   "display_name": "Python 3",
   "language": "python",
   "name": "python3"
  },
  "language_info": {
   "codemirror_mode": {
    "name": "ipython",
    "version": 3
   },
   "file_extension": ".py",
   "mimetype": "text/x-python",
   "name": "python",
   "nbconvert_exporter": "python",
   "pygments_lexer": "ipython3",
   "version": "3.7.3"
  }
 },
 "nbformat": 4,
 "nbformat_minor": 2
}
