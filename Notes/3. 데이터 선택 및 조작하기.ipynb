{
 "cells": [
  {
   "cell_type": "markdown",
   "metadata": {},
   "source": [
    "# 데이터 선택 및 조작하기\n",
    "\n"
   ]
  },
  {
   "cell_type": "code",
   "execution_count": 1,
   "metadata": {
    "collapsed": true
   },
   "outputs": [],
   "source": [
    "import pandas as pd"
   ]
  },
  {
   "cell_type": "code",
   "execution_count": 2,
   "metadata": {
    "collapsed": true
   },
   "outputs": [
    {
     "name": "stdout",
     "output_type": "stream",
     "text": [
      "           사용일자  노선명   역ID            역명  승차총승객수  하차총승객수      등록일자\n",
      "0      20190801  분당선  1872            매교    2348    2405  20190804\n",
      "1      20190801  분당선  1871          수원시청   11930   13290  20190804\n",
      "2      20190801  분당선  1870          매탄권선    4609    4360  20190804\n",
      "3      20190801  분당선  1869            망포   14103   13044  20190804\n",
      "4      20190801  분당선  1868            영통    9303    9380  20190804\n",
      "5      20190801  분당선  1867            청명    4494    4133  20190804\n",
      "6      20190801  분당선  1866            상갈    5900    5573  20190804\n",
      "7      20190801  분당선  1865            기흥   10424    9952  20190804\n",
      "8      20190801  분당선  1864            신갈    5242    5028  20190804\n",
      "9      20190801  분당선  1863            구성    5142    5183  20190804\n",
      "10     20190801  분당선  1862            죽전   15723   17636  20190804\n",
      "11     20190801  분당선  1861            보정    2795    2252  20190804\n",
      "12     20190801  분당선  1860            이매    6584    6296  20190804\n",
      "13     20190801  분당선  1859            오리   13578   11524  20190804\n",
      "14     20190801  분당선  1858            미금   18313   19598  20190804\n",
      "15     20190801  분당선  1857            정자   18410   19798  20190804\n",
      "16     20190801  분당선  1856            수내   15011   15169  20190804\n",
      "17     20190801  분당선  1855            서현   29673   30184  20190804\n",
      "18     20190801  분당선  1854            야탑   30773   32168  20190804\n",
      "19     20190801  분당선  1853            모란   21651   21634  20190804\n",
      "20     20190801  분당선  1852            태평   14650   13971  20190804\n",
      "21     20190801  분당선  1851           가천대    7286    8226  20190804\n",
      "22     20190801  분당선  1850           선정릉    8805    9714  20190804\n",
      "23     20190801  분당선  1849          강남구청   10139   11967  20190804\n",
      "24     20190801  분당선  1848        압구정로데오   17951   20422  20190804\n",
      "25     20190801  분당선  1847           서울숲    9322    9222  20190804\n",
      "26     20190801  분당선  1846            수원    9036    6086  20190804\n",
      "27     20190801  분당선  1030            수서   14910   15208  20190804\n",
      "28     20190801  분당선  1028         대모산입구    3550    3221  20190804\n",
      "29     20190801  분당선  1027           개포동    3152    3363  20190804\n",
      "...         ...  ...   ...           ...     ...     ...       ...\n",
      "18289  20190831  3호선   341          경찰병원    5183    4955  20190903\n",
      "18290  20190831  3호선   340          가락시장    8472    7900  20190903\n",
      "18291  20190831  3호선   339            수서   16584   16152  20190903\n",
      "18292  20190831  3호선   338            일원    6590    6692  20190903\n",
      "18293  20190831  3호선   337            대청    7722    6881  20190903\n",
      "18294  20190831  3호선   336           학여울    5343    5767  20190903\n",
      "18295  20190831  3호선   335            대치   13230   11370  20190903\n",
      "18296  20190831  3호선   334            도곡    4294    4484  20190903\n",
      "18297  20190831  3호선   333            매봉    6865    6471  20190903\n",
      "18298  20190831  3호선   332      양재(서초구청)   29464   31982  20190903\n",
      "18299  20190831  3호선   331  남부터미널(예술의전당)   34542   34403  20190903\n",
      "18300  20190831  3호선   330    교대(법원.검찰청)    9944    5945  20190903\n",
      "18301  20190831  3호선   329         고속터미널   81135   77666  20190903\n",
      "18302  20190831  3호선   328            잠원    5365    5021  20190903\n",
      "18303  20190831  3호선   327            신사   33183   36104  20190903\n",
      "18304  20190831  3호선   326           압구정   31763   33735  20190903\n",
      "18305  20190831  3호선   325            옥수    9014    9430  20190903\n",
      "18306  20190831  3호선   324            금호    7464    6600  20190903\n",
      "18307  20190831  3호선   323            약수   11759   11120  20190903\n",
      "18308  20190831  3호선   322          동대입구   13324   15679  20190903\n",
      "18309  20190831  3호선   321           충무로       1       0  20190903\n",
      "18310  20190831  3호선   320         을지로3가    8075    8788  20190903\n",
      "18311  20190831  3호선   319          종로3가    8497   12792  20190903\n",
      "18312  20190831  3호선   318            안국   23696   26079  20190903\n",
      "18313  20190831  3호선   317   경복궁(정부서울청사)   29145   29075  20190903\n",
      "18314  20190831  3호선   316           독립문    8877    8761  20190903\n",
      "18315  20190831  3호선   315           무악재    3491    3576  20190903\n",
      "18316  20190831  3호선   314            홍제   17306   16129  20190903\n",
      "18317  20190831  3호선   313            녹번   11970    9936  20190903\n",
      "18318  20190831  3호선   312            불광   16697   18805  20190903\n",
      "\n",
      "[18319 rows x 7 columns]\n"
     ]
    }
   ],
   "source": [
    "# 서울시 지하철 승하차정보 불러오기\n",
    "df = pd.read_csv('data/subway.csv')\n",
    "print(df)"
   ]
  },
  {
   "cell_type": "markdown",
   "metadata": {},
   "source": [
    "## DataFrame의 size, shape, ndim\n",
    "\n",
    "```python\n",
    "df.size # DataFrame 내의 총 데이터 개수 (row * column)\n",
    "df.shape # (row수, column수)\n",
    "df.ndim # 데이터의 차원\n",
    "```\n",
    "\n",
    "### Example"
   ]
  },
  {
   "cell_type": "code",
   "execution_count": null,
   "metadata": {
    "collapsed": true
   },
   "outputs": [],
   "source": [
    "print(df.size)\n",
    "print(df.shape)\n",
    "print(df.ndim)"
   ]
  },
  {
   "cell_type": "markdown",
   "metadata": {},
   "source": [
    "## [ ] 를 사용하여 데이터 선택하기\n",
    "\n",
    "기본 문법\n",
    "\n",
    "```python\n",
    "series[index] # index에 위치한 값을 반환\n",
    "dataframe[index] # index에 해당하는 series를 반환\n",
    "```\n",
    "혹은 (추천하지 않음)\n",
    "```python\n",
    "series.index # index에 위치한 값을 반환\n",
    "dataframe.index # index에 해당하는 series 반환\n",
    "```\n",
    "\n",
    "### Example"
   ]
  },
  {
   "cell_type": "code",
   "execution_count": null,
   "metadata": {
    "collapsed": true
   },
   "outputs": [],
   "source": [
    "# []를 이용하여 특정 Column 선택\n",
    "# 리턴값의 type은 Series\n",
    "\n",
    "s = df['역명'] # 혹은 df.노선명\n",
    "print(s, '\\n')\n",
    "print(type(s))"
   ]
  },
  {
   "cell_type": "code",
   "execution_count": null,
   "metadata": {
    "collapsed": true
   },
   "outputs": [],
   "source": [
    "# Series의 특정 값을 선택\n",
    "print(s[10], '\\n')\n",
    "\n",
    "# 한 번에 하려면?\n",
    "print(df['역명'][10])"
   ]
  },
  {
   "cell_type": "code",
   "execution_count": null,
   "metadata": {
    "collapsed": true
   },
   "outputs": [],
   "source": [
    "s = df.역명\n",
    "print(s)\n",
    "\n",
    "#print(s.10)"
   ]
  },
  {
   "cell_type": "code",
   "execution_count": null,
   "metadata": {
    "collapsed": true
   },
   "outputs": [],
   "source": [
    "#여러 Column 선택하기\n",
    "\n",
    "result = df[['역명','하차총승객수']]\n",
    "print(result, '\\n')\n",
    "\n",
    "#이때 result의 타입은?\n",
    "print(type(result))"
   ]
  },
  {
   "cell_type": "code",
   "execution_count": null,
   "metadata": {
    "collapsed": true
   },
   "outputs": [],
   "source": [
    "# 결과값의 특정 Row만 선택하려면?\n",
    "df[['역명','하차총승객수']][10]"
   ]
  },
  {
   "cell_type": "markdown",
   "metadata": {},
   "source": [
    "## loc() 과 iloc() 함수를 사용하여 데이터 선택하기\n",
    "\n"
   ]
  },
  {
   "cell_type": "code",
   "execution_count": null,
   "metadata": {
    "collapsed": true
   },
   "outputs": [],
   "source": []
  },
  {
   "cell_type": "code",
   "execution_count": null,
   "metadata": {
    "collapsed": true
   },
   "outputs": [],
   "source": []
  },
  {
   "cell_type": "code",
   "execution_count": null,
   "metadata": {
    "collapsed": true
   },
   "outputs": [],
   "source": []
  },
  {
   "cell_type": "code",
   "execution_count": null,
   "metadata": {
    "collapsed": true
   },
   "outputs": [],
   "source": []
  },
  {
   "cell_type": "code",
   "execution_count": null,
   "metadata": {
    "collapsed": true
   },
   "outputs": [],
   "source": []
  },
  {
   "cell_type": "code",
   "execution_count": null,
   "metadata": {
    "collapsed": true
   },
   "outputs": [],
   "source": []
  },
  {
   "cell_type": "code",
   "execution_count": null,
   "metadata": {
    "collapsed": true
   },
   "outputs": [],
   "source": []
  },
  {
   "cell_type": "markdown",
   "metadata": {},
   "source": [
    "## head와 tail 함수"
   ]
  }
 ],
 "metadata": {
  "kernelspec": {
   "display_name": "Python 3",
   "language": "python",
   "name": "python3"
  },
  "language_info": {
   "codemirror_mode": {
    "name": "ipython",
    "version": 3
   },
   "file_extension": ".py",
   "mimetype": "text/x-python",
   "name": "python",
   "nbconvert_exporter": "python",
   "pygments_lexer": "ipython3",
   "version": "3.7.3"
  }
 },
 "nbformat": 4,
 "nbformat_minor": 2
}
