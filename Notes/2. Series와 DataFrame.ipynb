{
 "cells": [
  {
   "cell_type": "markdown",
   "metadata": {},
   "source": [
    "# Pandas의 Data Structure"
   ]
  },
  {
   "cell_type": "markdown",
   "metadata": {},
   "source": [
    "## Series와 DataFrame\n",
    "---\n",
    "\n",
    "### Series란\n",
    " - 1차원의 값을 나타내는 Pandas의 자료구조\n",
    " - 엑셀의 스프레드시트와 같은 데이터에서 하나의 행, 혹은 열을 나타낸다\n",
    "\n",
    "---"
   ]
  },
  {
   "cell_type": "markdown",
   "metadata": {},
   "source": [
    "### DataFrame이란\n",
    " - 2차원의 값을 나타내는 Pandas의 자료구조\n",
    " - 엑셀 스프레드시트\n",
    " - 데이터베이스의 Table\n",
    " - Series의 집합\n",
    "\n",
    "![title](img/dataframe.png)\n",
    "\n",
    "---"
   ]
  },
  {
   "cell_type": "code",
   "execution_count": null,
   "metadata": {},
   "outputs": [],
   "source": [
    "import pandas as pd"
   ]
  },
  {
   "cell_type": "markdown",
   "metadata": {},
   "source": [
    "### Series에 값 할당하기\n",
    "```python\n",
    "s = pd.Series(data, index=index)\n",
    "```\n",
    "\n",
    "`data` 에는\n",
    " - 리스트\n",
    " - 딕셔너리\n",
    " - 튜플\n",
    " - Scalar 값 (숫자, 문자열 등)\n",
    "등이 들어갈 수 있다.\n",
    "\n",
    "\n",
    "#### Example"
   ]
  },
  {
   "cell_type": "code",
   "execution_count": 112,
   "metadata": {},
   "outputs": [
    {
     "name": "stdout",
     "output_type": "stream",
     "text": [
      "0    a\n",
      "1    b\n",
      "2    c\n",
      "3    d\n",
      "4    e\n",
      "dtype: object\n"
     ]
    }
   ],
   "source": [
    "# 리스트로 Series 생성\n",
    "# index 값을 지정하지 않을 경우 0부터 자동으로 index가 부여됨\n",
    "my_list = ['a','b','c','d','e']\n",
    "\n",
    "s = pd.Series(my_list)\n",
    "print(s)"
   ]
  },
  {
   "cell_type": "code",
   "execution_count": null,
   "metadata": {},
   "outputs": [],
   "source": [
    "# index 를 명시적으로 지정하여 Series 생성\n",
    "# index 의 길이는 list의 길이와 같아야 함\n",
    "s = pd.Series(my_list, index=['string', 3, 0.98, True])\n",
    "print(s)\n",
    "s = pd.Series(my_list, index=range(10,15))\n",
    "print(s)"
   ]
  },
  {
   "cell_type": "code",
   "execution_count": null,
   "metadata": {},
   "outputs": [],
   "source": [
    "# 딕셔너리로 Series 생성\n",
    "# 딕셔너리의 Key가 생성된 Series의 Index가 된다\n",
    "my_dict = {\n",
    "    'first_name' : 'Baek',\n",
    "    'last_name' : 'JaeWon',\n",
    "    'Gender' : 'M',\n",
    "    'Age' : 19,\n",
    "    'some_list' : [1,3,5,7,9]\n",
    "}\n",
    "\n",
    "s = pd.Series(my_dict)\n",
    "print(s)"
   ]
  },
  {
   "cell_type": "code",
   "execution_count": null,
   "metadata": {},
   "outputs": [],
   "source": [
    "# 특정 index만 선택하여 Series 생성\n",
    "s = pd.Series(my_dict, index=['first_name', 'Age', 'Address'])\n",
    "print(s)"
   ]
  },
  {
   "cell_type": "code",
   "execution_count": null,
   "metadata": {},
   "outputs": [],
   "source": [
    "# 튜플로 Series 생성\n",
    "my_tuple = (10,20,30,40,50)\n",
    "\n",
    "s = pd.Series(my_tuple)\n",
    "print(s)"
   ]
  },
  {
   "cell_type": "code",
   "execution_count": null,
   "metadata": {},
   "outputs": [],
   "source": [
    "# int, float, string으로 Series 생성\n",
    "# Index에 리스트값을 지정할 경우, Index 리스트 크기의 Series가 생성\n",
    "s = pd.Series(100)\n",
    "print(s)\n",
    "s = pd.Series(3.14)\n",
    "print(s)\n",
    "s = pd.Series('some string', index=range(10))\n",
    "print(s)"
   ]
  },
  {
   "cell_type": "code",
   "execution_count": null,
   "metadata": {},
   "outputs": [],
   "source": [
    "# Series의 name 설정\n",
    "s = pd.Series(my_list, name='something')\n",
    "print(s)\n",
    "s.name = \"new name\"\n",
    "print(s)\n"
   ]
  },
  {
   "cell_type": "markdown",
   "metadata": {},
   "source": [
    "### DataFrame에 값 할당하기\n",
    "```python\n",
    "s = pd.DataFrame(data, index=index)\n",
    "```\n",
    "\n",
    "`data` 에는\n",
    " - 1차원의 리스트, 딕셔너리 혹은 Series를 `value` 로 갖는 딕셔너리\n",
    " - 1차원의 리스트, 딕셔너리 혹은 Series의 리스트\n",
    " - Series\n",
    " - DataFrame\n",
    " \n",
    "등이 들어갈 수 있다.\n",
    "\n",
    "\n",
    "### Example"
   ]
  },
  {
   "cell_type": "code",
   "execution_count": null,
   "metadata": {},
   "outputs": [],
   "source": [
    "# 리스트를 value로 갖는 딕셔너리로 DataFrame 생성\n",
    "dict_list = {\n",
    "    'first' : [11,12,13,14,15],\n",
    "    'second' : [21,22,23,24,25],\n",
    "    'third' : [31,32,33,34,35]\n",
    "}\n",
    "\n",
    "df = pd.DataFrame(dict_list)\n",
    "print(df)"
   ]
  },
  {
   "cell_type": "code",
   "execution_count": null,
   "metadata": {},
   "outputs": [],
   "source": [
    "# Index를 지정하여 DataFrame 생성\n",
    "df = pd.DataFrame(dict_list, index = ['a','b','c','d','e'])\n",
    "print(df)"
   ]
  },
  {
   "cell_type": "code",
   "execution_count": null,
   "metadata": {},
   "outputs": [],
   "source": [
    "# 딕셔너리를 value로 갖는 딕셔너리로 DataFrame 생성\n",
    "# Outer 딕셔너리의 Key 값은 DataFrame의 Column Index가 되며\n",
    "# Inner 딕셔너리의 Key 값은 DataFrame의 Row Index가 된다\n",
    "dict_dict1 = {\n",
    "    'first' : {\n",
    "        'a' : 1,\n",
    "        'b' : 2,\n",
    "        'c' : 3\n",
    "    },\n",
    "    'second' : {\n",
    "        'a' : 4,\n",
    "        'b' : 5,\n",
    "        'c' : 6\n",
    "    },\n",
    "    'third' : {\n",
    "        'a' : 7,\n",
    "        'b' : 8,\n",
    "        'c' : 9\n",
    "    }\n",
    "}\n",
    "\n",
    "df = pd.DataFrame(dict_dict1)\n",
    "print(df, '\\n')\n"
   ]
  },
  {
   "cell_type": "code",
   "execution_count": null,
   "metadata": {},
   "outputs": [],
   "source": [
    "# Inner 딕셔너리의 Key값이 서로 다를 경우\n",
    "dict_dict2 = {\n",
    "    'first' : {\n",
    "        'a' : 1,\n",
    "        'b' : 2,\n",
    "        'c' : 3\n",
    "    },\n",
    "    'second' : {\n",
    "        'a' : 4,\n",
    "        'd' : 5,\n",
    "        'e' : 6\n",
    "    },\n",
    "    'third' : {\n",
    "        'b' : 7,\n",
    "        'c' : 8,\n",
    "        'f' : 9\n",
    "    }\n",
    "}\n",
    "\n",
    "df = pd.DataFrame(dict_dict2)\n",
    "print(df)"
   ]
  },
  {
   "cell_type": "code",
   "execution_count": null,
   "metadata": {},
   "outputs": [],
   "source": [
    "# Index를 지정하여 DataFrame 생성\n",
    "df = pd.DataFrame(dict_dict2, index=['a','c','f'])\n",
    "print(df)"
   ]
  },
  {
   "cell_type": "code",
   "execution_count": null,
   "metadata": {},
   "outputs": [],
   "source": [
    "# Series를 value로 갖는 딕셔너리로 DataFrame 생성\n",
    "dict_series = {\n",
    "    'first' : pd.Series(range(1,4), index=['a','b','c']),\n",
    "    'second' : pd.Series(range(4,7), index=['a','b','c']),\n",
    "    'third' : pd.Series(range(7,10), index=['b','c','d'])\n",
    "}\n",
    "\n",
    "df = pd.DataFrame(dict_series)\n",
    "print(df)"
   ]
  },
  {
   "cell_type": "code",
   "execution_count": null,
   "metadata": {},
   "outputs": [],
   "source": [
    "# 리스트의 리스트(2중 리스트)로 DataFrame 생성\n",
    "list_list = [\n",
    "    [1,2,3],\n",
    "    [4,5,6],\n",
    "    [7,8]\n",
    "]\n",
    "\n",
    "df = pd.DataFrame(list_list)\n",
    "print(df, '\\n')\n"
   ]
  },
  {
   "cell_type": "code",
   "execution_count": null,
   "metadata": {},
   "outputs": [],
   "source": [
    "# 딕셔너리의 리스트로 DataFrame 생성\n",
    "# 이 경우 Dictionary의 Key 값이 DataFrame의 Column Index가 되는 것에 유의\n",
    "list_dict = [\n",
    "    {\n",
    "        'a' : 1,\n",
    "        'b' : 2,\n",
    "        'c' : 3\n",
    "    },\n",
    "    {\n",
    "        'a' : 4,\n",
    "        'b' : 5,\n",
    "        'c' : 6\n",
    "    },\n",
    "    {\n",
    "        'b' : 7,\n",
    "        'c' : 8,\n",
    "        'd' : 9\n",
    "    }\n",
    "]\n",
    "\n",
    "df = pd.DataFrame(list_dict)\n",
    "print(df, '\\n')"
   ]
  },
  {
   "cell_type": "code",
   "execution_count": null,
   "metadata": {},
   "outputs": [],
   "source": [
    "# Series로 DataFrame 생성\n",
    "# Series의 Name이 DataFrame Column의 Index가 된다\n",
    "my_series = pd.Series(['a','b','c','d','e'])\n",
    "my_series.name = 'column1'\n",
    "df = pd.DataFrame(my_series)\n",
    "print(df)"
   ]
  },
  {
   "cell_type": "markdown",
   "metadata": {},
   "source": [
    "## I/O tools - 외부 데이터를 DataFrame으로 Import하기\n",
    "---\n",
    "\n",
    "실제 데이터 분석에서, 사용할 데이터를 일일히 입력해 넣는 경우는 흔하지 않다.\n",
    "분석에 사용할 데이터는 파일로부터 Import를 하는 경우가 대부분.\n",
    "\n",
    "#### 자주 사용되는 데이터 포맷들\n",
    " - CSV (Comma Separated Values)\n",
    " - Excel\n",
    " - HTML\n",
    " - JSON\n",
    " - Table\n",
    " - Clipboard\n",
    "---\n",
    "\n",
    "\n",
    "### CSV (Comma Separated Values) 란\n",
    "![title](img/csv.png)\n",
    "\n",
    " - 데이터의 Column은 쉼표(,)로, 데이터의 Row는 줄바꿈(\\n) 으로 구분\n",
    " - 확장자는 .csv\n",
    " - Header : 파일의 첫 줄에서, 각 Column의 이름을 명시\n",
    " - Delimiter : 구분자. 쉼표가 일반적이지만, '\\t', ';' 등의 구분자도 자주 사용된다\n",
    " \n",
    "### CSV 파일을 DataFrame에 불러오기\n",
    "\n",
    "```python\n",
    "df = pd.read_csv(filepath, sep, ...)\n",
    "```\n",
    "\n",
    "#### Example"
   ]
  },
  {
   "cell_type": "code",
   "execution_count": 113,
   "metadata": {},
   "outputs": [
    {
     "name": "stdout",
     "output_type": "stream",
     "text": [
      "           사용일자  노선명   역ID            역명  승차총승객수  하차총승객수      등록일자\n",
      "0      20190801  분당선  1872            매교    2348    2405  20190804\n",
      "1      20190801  분당선  1871          수원시청   11930   13290  20190804\n",
      "2      20190801  분당선  1870          매탄권선    4609    4360  20190804\n",
      "3      20190801  분당선  1869            망포   14103   13044  20190804\n",
      "4      20190801  분당선  1868            영통    9303    9380  20190804\n",
      "5      20190801  분당선  1867            청명    4494    4133  20190804\n",
      "6      20190801  분당선  1866            상갈    5900    5573  20190804\n",
      "7      20190801  분당선  1865            기흥   10424    9952  20190804\n",
      "8      20190801  분당선  1864            신갈    5242    5028  20190804\n",
      "9      20190801  분당선  1863            구성    5142    5183  20190804\n",
      "10     20190801  분당선  1862            죽전   15723   17636  20190804\n",
      "11     20190801  분당선  1861            보정    2795    2252  20190804\n",
      "12     20190801  분당선  1860            이매    6584    6296  20190804\n",
      "13     20190801  분당선  1859            오리   13578   11524  20190804\n",
      "14     20190801  분당선  1858            미금   18313   19598  20190804\n",
      "15     20190801  분당선  1857            정자   18410   19798  20190804\n",
      "16     20190801  분당선  1856            수내   15011   15169  20190804\n",
      "17     20190801  분당선  1855            서현   29673   30184  20190804\n",
      "18     20190801  분당선  1854            야탑   30773   32168  20190804\n",
      "19     20190801  분당선  1853            모란   21651   21634  20190804\n",
      "20     20190801  분당선  1852            태평   14650   13971  20190804\n",
      "21     20190801  분당선  1851           가천대    7286    8226  20190804\n",
      "22     20190801  분당선  1850           선정릉    8805    9714  20190804\n",
      "23     20190801  분당선  1849          강남구청   10139   11967  20190804\n",
      "24     20190801  분당선  1848        압구정로데오   17951   20422  20190804\n",
      "25     20190801  분당선  1847           서울숲    9322    9222  20190804\n",
      "26     20190801  분당선  1846            수원    9036    6086  20190804\n",
      "27     20190801  분당선  1030            수서   14910   15208  20190804\n",
      "28     20190801  분당선  1028         대모산입구    3550    3221  20190804\n",
      "29     20190801  분당선  1027           개포동    3152    3363  20190804\n",
      "...         ...  ...   ...           ...     ...     ...       ...\n",
      "18289  20190831  3호선   341          경찰병원    5183    4955  20190903\n",
      "18290  20190831  3호선   340          가락시장    8472    7900  20190903\n",
      "18291  20190831  3호선   339            수서   16584   16152  20190903\n",
      "18292  20190831  3호선   338            일원    6590    6692  20190903\n",
      "18293  20190831  3호선   337            대청    7722    6881  20190903\n",
      "18294  20190831  3호선   336           학여울    5343    5767  20190903\n",
      "18295  20190831  3호선   335            대치   13230   11370  20190903\n",
      "18296  20190831  3호선   334            도곡    4294    4484  20190903\n",
      "18297  20190831  3호선   333            매봉    6865    6471  20190903\n",
      "18298  20190831  3호선   332      양재(서초구청)   29464   31982  20190903\n",
      "18299  20190831  3호선   331  남부터미널(예술의전당)   34542   34403  20190903\n",
      "18300  20190831  3호선   330    교대(법원.검찰청)    9944    5945  20190903\n",
      "18301  20190831  3호선   329         고속터미널   81135   77666  20190903\n",
      "18302  20190831  3호선   328            잠원    5365    5021  20190903\n",
      "18303  20190831  3호선   327            신사   33183   36104  20190903\n",
      "18304  20190831  3호선   326           압구정   31763   33735  20190903\n",
      "18305  20190831  3호선   325            옥수    9014    9430  20190903\n",
      "18306  20190831  3호선   324            금호    7464    6600  20190903\n",
      "18307  20190831  3호선   323            약수   11759   11120  20190903\n",
      "18308  20190831  3호선   322          동대입구   13324   15679  20190903\n",
      "18309  20190831  3호선   321           충무로       1       0  20190903\n",
      "18310  20190831  3호선   320         을지로3가    8075    8788  20190903\n",
      "18311  20190831  3호선   319          종로3가    8497   12792  20190903\n",
      "18312  20190831  3호선   318            안국   23696   26079  20190903\n",
      "18313  20190831  3호선   317   경복궁(정부서울청사)   29145   29075  20190903\n",
      "18314  20190831  3호선   316           독립문    8877    8761  20190903\n",
      "18315  20190831  3호선   315           무악재    3491    3576  20190903\n",
      "18316  20190831  3호선   314            홍제   17306   16129  20190903\n",
      "18317  20190831  3호선   313            녹번   11970    9936  20190903\n",
      "18318  20190831  3호선   312            불광   16697   18805  20190903\n",
      "\n",
      "[18319 rows x 7 columns]\n"
     ]
    }
   ],
   "source": [
    "# 서울시 지하철 승하차정보 불러오기\n",
    "df = pd.read_csv('data/subway.csv')\n",
    "print(df)"
   ]
  },
  {
   "cell_type": "code",
   "execution_count": null,
   "metadata": {},
   "outputs": [],
   "source": [
    "# 특정 Column만 선택하여 불러오기\n",
    "df = pd.read_csv('data/subway.csv', usecols=[0,3,5])\n",
    "print(df)"
   ]
  },
  {
   "cell_type": "code",
   "execution_count": null,
   "metadata": {},
   "outputs": [],
   "source": [
    "# 특정 Column만 선택하여 불러오기\n",
    "df = pd.read_csv('data/subway.csv', usecols=['노선명','승차총승객수','하차총승객수'])\n",
    "print(df)"
   ]
  },
  {
   "cell_type": "code",
   "execution_count": null,
   "metadata": {},
   "outputs": [],
   "source": [
    "# Header가 없는 경우\n",
    "df = pd.read_csv('data/subway_noheader.csv')\n",
    "print(df)"
   ]
  },
  {
   "cell_type": "code",
   "execution_count": null,
   "metadata": {},
   "outputs": [],
   "source": [
    "#H eader가 없는 경우\n",
    "df = pd.read_csv('data/subway_noheader.csv', header=None)\n",
    "print(df)"
   ]
  },
  {
   "cell_type": "code",
   "execution_count": null,
   "metadata": {},
   "outputs": [],
   "source": [
    "# Delimiter가 쉼표가 아닐 경우\n",
    "df = pd.read_csv('data/subway_semicolon.csv', sep=';')\n",
    "print(df)"
   ]
  },
  {
   "cell_type": "markdown",
   "metadata": {},
   "source": [
    "### Excel 파일을 DataFrame에 불러오기\n",
    "\n",
    "```python\n",
    "df = pd.read_excel(filepath, sheet_name, ...)\n",
    "```\n",
    "\n",
    "#### Example"
   ]
  },
  {
   "cell_type": "code",
   "execution_count": null,
   "metadata": {},
   "outputs": [],
   "source": [
    "df = pd.read_excel('data/subway.xlsx', sheet_name='subway')\n",
    "print(df)"
   ]
  },
  {
   "cell_type": "markdown",
   "metadata": {},
   "source": [
    "### HTML (Hyper Text Markup Language) 이란\n",
    "![title](img/bank_page.png)\n",
    "![title](img/html_code.png)\n",
    "\n",
    " - 웹페이지 문서를 작성하는 언어\n",
    " - 화살괄호 ('<', '>') 로 구분되는 여러 태그들로 구성 (ex : <div> </div>)\n",
    " - 확장자 : .html, .htm\n",
    " - Pandas의 read_html 함수는 HTML문서에서 표(<table> 태그)에 해당하는 부분만 자동으로 읽어온다\n",
    " \n",
    "### HTML 파일을 DataFrame에 불러오기\n",
    "\n",
    "```python\n",
    "df = pd.read_csv(url)\n",
    "df = pd.read_csv(filepath)\n",
    "```\n",
    "\n",
    "#### Example"
   ]
  },
  {
   "cell_type": "code",
   "execution_count": null,
   "metadata": {},
   "outputs": [],
   "source": [
    "# URL을 입력하여 해당 페이지의 Table 불러오기\n",
    "# read_html 의 결과로 DataFrame의 '리스트'가 반횐되는 것에 유의\n",
    "url = 'https://www.fdic.gov/bank/individual/failed/banklist.html'\n",
    "dfs = pd.read_html(url)\n",
    "print(dfs[0])"
   ]
  },
  {
   "cell_type": "code",
   "execution_count": null,
   "metadata": {},
   "outputs": [],
   "source": [
    "# 파일로 저장된 HTML문서의 경로를 통해 해당 페이지의 Table 불러오기\n",
    "dfs = pd.read_html('data/bank.htm')\n",
    "print(dfs[0])"
   ]
  },
  {
   "cell_type": "markdown",
   "metadata": {},
   "source": [
    "### JSON (JavaScript Object Notation) 이란\n",
    "![title](img/json.png)\n",
    "\n",
    " - 파이썬의 딕셔너리와 같은, Key-Value 데이터 오브젝트에 대한 개방형 표준 포맷\n",
    " - 프로그래밍 언어와 플랫폼에 독립적 : 여러 언어에서 쉽게 변환하여 이용 가능\n",
    " - 웹에서 데이터를 주고 받을 때에도 자주 사용됨\n",
    " - 확장자 : .json\n",
    " \n",
    " \n",
    "### JSON 파일을 DataFrame에 불러오기\n",
    "\n",
    "```python\n",
    "df = pd.read_json(filepath)\n",
    "```\n",
    "\n",
    "#### Example"
   ]
  },
  {
   "cell_type": "code",
   "execution_count": null,
   "metadata": {},
   "outputs": [],
   "source": [
    "# 미국 연도별 인구 데이터 불러오기\n",
    "df = pd.read_json('data/population.json')\n",
    "print(df)"
   ]
  },
  {
   "cell_type": "code",
   "execution_count": null,
   "metadata": {},
   "outputs": [],
   "source": [
    "# json_normalize 함수를 이용하여 Nested structure의 JSON 파일을 정상적으로 불러오기\n",
    "import json\n",
    "from pandas.io.json import json_normalize\n",
    "with open ('data/population.json') as data_file:\n",
    "    data = json.load(data_file)\n",
    "\n",
    "df = json_normalize(data)\n",
    "print(df)\n"
   ]
  },
  {
   "cell_type": "markdown",
   "metadata": {},
   "source": [
    "### 클립보드의 내용을 DataFrame에 불러오기\n",
    "\n",
    "```python\n",
    "df = pd.read_clipboard()\n",
    "```"
   ]
  }
 ],
 "metadata": {
  "kernelspec": {
   "display_name": "Python 3",
   "language": "python",
   "name": "python3"
  },
  "language_info": {
   "codemirror_mode": {
    "name": "ipython",
    "version": 3
   },
   "file_extension": ".py",
   "mimetype": "text/x-python",
   "name": "python",
   "nbconvert_exporter": "python",
   "pygments_lexer": "ipython3",
   "version": "3.7.3"
  }
 },
 "nbformat": 4,
 "nbformat_minor": 2
}
