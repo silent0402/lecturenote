{
 "cells": [
  {
   "cell_type": "markdown",
   "metadata": {
    "slideshow": {
     "slide_type": "slide"
    }
   },
   "source": [
    "# 2. Pandas의 Data Structure"
   ]
  },
  {
   "cell_type": "markdown",
   "metadata": {
    "slideshow": {
     "slide_type": "slide"
    }
   },
   "source": [
    "## 2.1. Series와 DataFrame\n",
    "---\n",
    "\n",
    "### Series란\n",
    " - 1차원의 값을 나타내는 Pandas의 자료구조\n",
    " - 엑셀의 스프레드시트와 같은 데이터에서 하나의 행, 혹은 열을 나타낸다\n",
    " - 'Index' 와 'Value' 로 구성\n",
    " - Name을 설정할 수 있다"
   ]
  },
  {
   "cell_type": "markdown",
   "metadata": {
    "slideshow": {
     "slide_type": "subslide"
    }
   },
   "source": [
    "### Series는 다른 파이썬 자료구조와 크게 다르지 않다\n",
    "---\n",
    "![title](img/series.png)"
   ]
  },
  {
   "cell_type": "markdown",
   "metadata": {
    "slideshow": {
     "slide_type": "slide"
    }
   },
   "source": [
    "---\n",
    "### DataFrame이란\n",
    " - 2차원의 값을 나타내는 Pandas의 자료구조\n",
    " - 엑셀 스프레드시트 혹은 데이터베이스의 Table과 같은 자료구조\n",
    " - Series의 집합"
   ]
  },
  {
   "cell_type": "markdown",
   "metadata": {
    "slideshow": {
     "slide_type": "subslide"
    }
   },
   "source": [
    "### DataFrame의 구조\n",
    "---\n",
    "![title](img/dataframe1.png)"
   ]
  },
  {
   "cell_type": "markdown",
   "metadata": {
    "slideshow": {
     "slide_type": "subslide"
    }
   },
   "source": [
    "### DataFrame은 Series의 집합\n",
    "---\n",
    "![title](img/dataframe2.png)\n"
   ]
  },
  {
   "cell_type": "markdown",
   "metadata": {
    "slideshow": {
     "slide_type": "slide"
    }
   },
   "source": [
    "### Series에 값 할당하기\n",
    "```python\n",
    "s = pd.Series(data, index=index)\n",
    "```\n",
    "\n",
    "`data` 에는\n",
    " - 리스트\n",
    " - 딕셔너리\n",
    " - 튜플\n",
    " - Scalar 값 (숫자, 문자열 등)\n",
    "등이 들어갈 수 있다."
   ]
  },
  {
   "cell_type": "markdown",
   "metadata": {
    "slideshow": {
     "slide_type": "slide"
    }
   },
   "source": [
    "#### Example"
   ]
  },
  {
   "cell_type": "code",
   "execution_count": null,
   "metadata": {},
   "outputs": [],
   "source": [
    "import pandas as pd\n",
    "\n",
    "# 리스트로 Series 생성\n",
    "# index 값을 지정하지 않을 경우 0부터 자동으로 index가 부여됨\n",
    "my_list = ['a','b','c','d','e']\n",
    "\n",
    "s = pd.Series(my_list)\n",
    "print(s)"
   ]
  },
  {
   "cell_type": "code",
   "execution_count": null,
   "metadata": {
    "slideshow": {
     "slide_type": "subslide"
    }
   },
   "outputs": [],
   "source": [
    "# index 를 명시적으로 지정하여 Series 생성\n",
    "# index 의 길이는 list의 길이와 같아야 함\n",
    "s = pd.Series(my_list, index=['string', 3, 0.98, True])\n",
    "print(s)\n",
    "s = pd.Series(my_list, index=range(10,15))\n",
    "print(s)"
   ]
  },
  {
   "cell_type": "code",
   "execution_count": null,
   "metadata": {
    "slideshow": {
     "slide_type": "subslide"
    }
   },
   "outputs": [],
   "source": [
    "# 딕셔너리로 Series 생성\n",
    "# 딕셔너리의 Key가 생성된 Series의 Index가 된다\n",
    "my_dict = {\n",
    "    'first_name' : 'Baek',\n",
    "    'last_name' : 'JaeWon',\n",
    "    'Gender' : 'M',\n",
    "    'Age' : 19,\n",
    "    'some_list' : [1,3,5,7,9]\n",
    "}\n",
    "\n",
    "s = pd.Series(my_dict)\n",
    "print(s)"
   ]
  },
  {
   "cell_type": "code",
   "execution_count": null,
   "metadata": {
    "slideshow": {
     "slide_type": "subslide"
    }
   },
   "outputs": [],
   "source": [
    "# 특정 index만 선택하여 Series 생성\n",
    "s = pd.Series(my_dict, index=['first_name', 'Age', 'Address'])\n",
    "print(s)"
   ]
  },
  {
   "cell_type": "code",
   "execution_count": null,
   "metadata": {
    "slideshow": {
     "slide_type": "subslide"
    }
   },
   "outputs": [],
   "source": [
    "# 튜플로 Series 생성\n",
    "my_tuple = (10,20,30,40,50)\n",
    "\n",
    "s = pd.Series(my_tuple)\n",
    "print(s)"
   ]
  },
  {
   "cell_type": "code",
   "execution_count": null,
   "metadata": {
    "slideshow": {
     "slide_type": "subslide"
    }
   },
   "outputs": [],
   "source": [
    "# int, float, string으로 Series 생성\n",
    "# Index에 리스트값을 지정할 경우, Index 리스트 크기의 Series가 생성\n",
    "s = pd.Series(100)\n",
    "print(s)\n",
    "s = pd.Series(3.14)\n",
    "print(s)\n",
    "s = pd.Series('some string', index=range(10))\n",
    "print(s)"
   ]
  },
  {
   "cell_type": "code",
   "execution_count": null,
   "metadata": {
    "slideshow": {
     "slide_type": "subslide"
    }
   },
   "outputs": [],
   "source": [
    "# Series의 name 설정\n",
    "s = pd.Series(my_list, name='something')\n",
    "print(s)\n",
    "s.name = \"new name\"\n",
    "print(s)\n"
   ]
  },
  {
   "cell_type": "markdown",
   "metadata": {
    "slideshow": {
     "slide_type": "slide"
    }
   },
   "source": [
    "### DataFrame에 값 할당하기\n",
    "```python\n",
    "s = pd.DataFrame(data, index=index)\n",
    "```\n",
    "\n",
    "`data` 에는\n",
    " - 1차원의 리스트, 딕셔너리 혹은 Series를 `value` 로 갖는 딕셔너리\n",
    " - 1차원의 리스트, 딕셔너리 혹은 Series의 리스트\n",
    " - Series\n",
    " - DataFrame\n",
    " \n",
    "등이 들어갈 수 있다."
   ]
  },
  {
   "cell_type": "markdown",
   "metadata": {
    "slideshow": {
     "slide_type": "slide"
    }
   },
   "source": [
    "#### Example"
   ]
  },
  {
   "cell_type": "code",
   "execution_count": null,
   "metadata": {
    "slideshow": {
     "slide_type": "slide"
    }
   },
   "outputs": [],
   "source": [
    "# 리스트를 value로 갖는 딕셔너리로 DataFrame 생성\n",
    "dict_list = {\n",
    "    'Name' : ['Baek','Kim','Park','Han','Lee'],\n",
    "    'Age' : [21,31,17,41,51],\n",
    "    'Gender' : ['M','F','F','M','M'],\n",
    "    'is_student' : [True, False, True, False, False]\n",
    "}\n",
    "\n",
    "df = pd.DataFrame(dict_list)\n",
    "print(df)"
   ]
  },
  {
   "cell_type": "code",
   "execution_count": null,
   "metadata": {
    "slideshow": {
     "slide_type": "subslide"
    }
   },
   "outputs": [],
   "source": [
    "# Index를 지정하여 DataFrame 생성\n",
    "df = pd.DataFrame(dict_list, index = ['a','b','c','d','e'])\n",
    "print(df)"
   ]
  },
  {
   "cell_type": "code",
   "execution_count": null,
   "metadata": {
    "slideshow": {
     "slide_type": "subslide"
    }
   },
   "outputs": [],
   "source": [
    "# 딕셔너리를 value로 갖는 딕셔너리로 DataFrame 생성\n",
    "# Outer 딕셔너리의 Key 값은 DataFrame의 Column명이 되며\n",
    "# Inner 딕셔너리의 Key 값은 DataFrame의 Row Index가 된다\n",
    "dict_dict1 = {\n",
    "    'Name' : {\n",
    "        'a' : 'Baek',\n",
    "        'b' : 'Kim',\n",
    "        'c' : 'Park',\n",
    "        'd' : 'Han',\n",
    "        'e' : 'Lee'\n",
    "    },\n",
    "    'Age' : {\n",
    "        'a' : 21,\n",
    "        'b' : 31,\n",
    "        'c' : 17,\n",
    "        'd' : 41,\n",
    "        'e' : 51\n",
    "    },\n",
    "    'Gender' : {\n",
    "        'a' : 'M',\n",
    "        'b' : 'F',\n",
    "        'c' : 'F',\n",
    "        'd' : 'M',\n",
    "        'e' : 'M'\n",
    "    },\n",
    "    'is_student' : {\n",
    "        'a' : True,\n",
    "        'b' : False,\n",
    "        'c' : True,\n",
    "        'd' : False,\n",
    "        'e' : False\n",
    "    }\n",
    "}\n",
    "\n",
    "df = pd.DataFrame(dict_dict1)\n",
    "print(df, '\\n')\n"
   ]
  },
  {
   "cell_type": "code",
   "execution_count": null,
   "metadata": {
    "slideshow": {
     "slide_type": "subslide"
    }
   },
   "outputs": [],
   "source": [
    "# Inner 딕셔너리의 Key값이 서로 다를 경우\n",
    "dict_dict2 = {\n",
    "    'Name' : {\n",
    "        'a' : 'Baek',\n",
    "        'b' : 'Kim',\n",
    "        'c' : 'Park',\n",
    "        'd' : 'Han',\n",
    "        '5' : 'Lee'\n",
    "    },\n",
    "    'Age' : {\n",
    "        'a' : 21,\n",
    "        'b' : 31,\n",
    "        '3' : 17,\n",
    "        'd' : 41,\n",
    "        'e' : 51\n",
    "    },\n",
    "    'Gender' : {\n",
    "        '1' : 'M',\n",
    "        '2' : 'F',\n",
    "        'c' : 'F',\n",
    "        'd' : 'M',\n",
    "        'e' : 'M'\n",
    "    },\n",
    "    'is_student' : {\n",
    "        'a' : True,\n",
    "        'b' : False,\n",
    "        'c' : True,\n",
    "        '4' : False,\n",
    "        'e' : False\n",
    "    },\n",
    "    'some_other_value' : {}\n",
    "}\n",
    "\n",
    "df = pd.DataFrame(dict_dict2)\n",
    "print(df)"
   ]
  },
  {
   "cell_type": "code",
   "execution_count": null,
   "metadata": {
    "slideshow": {
     "slide_type": "subslide"
    }
   },
   "outputs": [],
   "source": [
    "# Index와 column을 지정하여 DataFrame 생성\n",
    "df = pd.DataFrame(dict_dict1, index=['a','b','e'], columns=['Name', 'Age'])\n",
    "print(df)"
   ]
  },
  {
   "cell_type": "code",
   "execution_count": null,
   "metadata": {
    "slideshow": {
     "slide_type": "subslide"
    }
   },
   "outputs": [],
   "source": [
    "# Series를 value로 갖는 딕셔너리로 DataFrame 생성\n",
    "dict_series = {\n",
    "    'Name' : pd.Series(['Baek','Kim','Park','Han','Lee']),\n",
    "    'Age' : pd.Series([21,31,17,41,51]),\n",
    "    'Gender' : pd.Series(['M','F','F','M','M']),\n",
    "    'is_student' : pd.Series([True, False, True, False, False])\n",
    "}\n",
    "\n",
    "df = pd.DataFrame(dict_series)\n",
    "print(df)"
   ]
  },
  {
   "cell_type": "code",
   "execution_count": null,
   "metadata": {
    "slideshow": {
     "slide_type": "subslide"
    }
   },
   "outputs": [],
   "source": [
    "# 리스트의 리스트(2중 리스트)로 DataFrame 생성\n",
    "list_list = [\n",
    "    ['Baek','Kim','Park','Han','Lee'],\n",
    "    [21,31,17,41],\n",
    "    ['M','F','F','M','M'],\n",
    "    [True, False, True, False]\n",
    "]\n",
    "\n",
    "\n",
    "df = pd.DataFrame(list_list)\n",
    "print(df, '\\n')\n"
   ]
  },
  {
   "cell_type": "code",
   "execution_count": null,
   "metadata": {
    "slideshow": {
     "slide_type": "subslide"
    }
   },
   "outputs": [],
   "source": [
    "# 딕셔너리의 리스트로 DataFrame 생성\n",
    "# 이 경우 Dictionary의 Key 값이 DataFrame의 Column Index가 되는 것에 유의\n",
    "list_dict = [\n",
    "    {\n",
    "        'a' : 'Baek',\n",
    "        'b' : 'Kim',\n",
    "        'c' : 'Park',\n",
    "        'd' : 'Han',\n",
    "        'e' : 'Lee'\n",
    "    },\n",
    "    {\n",
    "        'a' : 21,\n",
    "        'b' : 31,\n",
    "        'c' : 17,\n",
    "        'd' : 41,\n",
    "        'e' : 51\n",
    "    },\n",
    "    {\n",
    "        'a' : 'M',\n",
    "        'b' : 'F',\n",
    "        'c' : 'F',\n",
    "        'd' : 'M',\n",
    "        'e' : 'M'\n",
    "    },\n",
    "    {\n",
    "        'a' : True,\n",
    "        'b' : False,\n",
    "        'c' : True,\n",
    "        'd' : False,\n",
    "        'e' : False\n",
    "    }\n",
    "\n",
    "]\n",
    "\n",
    "df = pd.DataFrame(list_dict)\n",
    "print(df, '\\n')\n",
    "\n",
    "# Transpose를 하면 원하던 결과를 얻을 수 있다\n",
    "print(df.T)"
   ]
  },
  {
   "cell_type": "code",
   "execution_count": null,
   "metadata": {
    "slideshow": {
     "slide_type": "subslide"
    }
   },
   "outputs": [],
   "source": [
    "#보통 Dictionary의 List로 이루어진 데이터는 아래와 같은 모양\n",
    "\n",
    "list_dict2 = [\n",
    "    {\n",
    "        'Name' : 'Baek',\n",
    "        'Age' : 21,\n",
    "        'Gender' : 'M',\n",
    "        'is_student' : True\n",
    "    },\n",
    "    {\n",
    "        'Name' : 'Kim',\n",
    "        'Age' : 31,\n",
    "        'Gender' : 'F',\n",
    "        'is_student' : False\n",
    "    },\n",
    "    {\n",
    "        'Name' : 'Park',\n",
    "        'Age' : 17,\n",
    "        'Gender' : 'F',\n",
    "        'is_student' : True,\n",
    "    },\n",
    "    {\n",
    "        'Name' : 'Han',\n",
    "        'Age' : 41,\n",
    "        'Gender' : 'M',\n",
    "        'is_student' : False\n",
    "    },\n",
    "    {\n",
    "        'Name' : 'Lee',\n",
    "        'Age' : 51,\n",
    "        'Gender' : 'M',\n",
    "        'is_student' : False\n",
    "    }\n",
    "\n",
    "]\n",
    "\n",
    "df = pd.DataFrame(list_dict2)\n",
    "print(df, '\\n')\n"
   ]
  },
  {
   "cell_type": "code",
   "execution_count": null,
   "metadata": {
    "slideshow": {
     "slide_type": "subslide"
    }
   },
   "outputs": [],
   "source": [
    "# Series로 DataFrame 생성\n",
    "# Series의 Name이 DataFrame의 Column명이 된다\n",
    "my_series = pd.Series(['a','b','c','d','e'])\n",
    "my_series.name = 'column1'\n",
    "df = pd.DataFrame(my_series)\n",
    "print(df)"
   ]
  },
  {
   "cell_type": "markdown",
   "metadata": {
    "slideshow": {
     "slide_type": "slide"
    }
   },
   "source": [
    "## 2.2. I/O tools - 외부 데이터를 DataFrame으로 Import하기\n",
    "---\n",
    "\n",
    "실제 데이터 분석에서, 사용할 데이터를 일일히 입력해 넣는 경우는 흔하지 않다.\n",
    "\n",
    "분석에 사용할 데이터는 파일로부터 Import를 하는 경우가 대부분.\n",
    "\n",
    "#### 자주 사용되는 데이터 포맷들\n",
    " - CSV (Comma Separated Values)\n",
    " - Excel\n",
    " - HTML\n",
    " - JSON\n",
    " - Table\n",
    " - Clipboard\n",
    " "
   ]
  },
  {
   "cell_type": "markdown",
   "metadata": {
    "slideshow": {
     "slide_type": "slide"
    }
   },
   "source": [
    "---\n",
    "\n",
    "### CSV (Comma Separated Values) 란\n",
    "![title](img/csv.png)\n",
    "\n",
    " - 데이터의 Column은 쉼표(,)로, 데이터의 Row는 줄바꿈(\\n) 으로 구분\n",
    " - 확장자는 .csv\n",
    " - Header : 파일의 첫 줄에서, 각 Column의 이름을 명시\n",
    " - Delimiter : 구분자. 쉼표가 일반적이지만, '\\t', ';' 등의 구분자도 자주 사용된다\n",
    " \n",
    "### CSV 파일을 DataFrame에 불러오기\n",
    "\n",
    "```python\n",
    "df = pd.read_csv(filepath, sep, ...)\n",
    "```"
   ]
  },
  {
   "cell_type": "markdown",
   "metadata": {
    "slideshow": {
     "slide_type": "slide"
    }
   },
   "source": [
    "#### Example"
   ]
  },
  {
   "cell_type": "code",
   "execution_count": null,
   "metadata": {},
   "outputs": [],
   "source": [
    "# 서울시 지하철 승하차정보 불러오기\n",
    "df = pd.read_csv('data/subway.csv')\n",
    "print(df)"
   ]
  },
  {
   "cell_type": "code",
   "execution_count": null,
   "metadata": {
    "slideshow": {
     "slide_type": "subslide"
    }
   },
   "outputs": [],
   "source": [
    "# 특정 Column만 선택하여 불러오기\n",
    "df = pd.read_csv('data/subway.csv', usecols=[0,3,5])\n",
    "print(df)"
   ]
  },
  {
   "cell_type": "code",
   "execution_count": null,
   "metadata": {
    "slideshow": {
     "slide_type": "subslide"
    }
   },
   "outputs": [],
   "source": [
    "# 특정 Column만 선택하여 불러오기\n",
    "df = pd.read_csv('data/subway.csv', usecols=['노선명','승차총승객수','하차총승객수'])\n",
    "print(df)"
   ]
  },
  {
   "cell_type": "code",
   "execution_count": null,
   "metadata": {
    "slideshow": {
     "slide_type": "subslide"
    }
   },
   "outputs": [],
   "source": [
    "# Header가 없는 경우\n",
    "df = pd.read_csv('data/subway_noheader.csv')\n",
    "print(df)"
   ]
  },
  {
   "cell_type": "code",
   "execution_count": null,
   "metadata": {
    "slideshow": {
     "slide_type": "subslide"
    }
   },
   "outputs": [],
   "source": [
    "#Header가 없는 경우\n",
    "df = pd.read_csv('data/subway_noheader.csv', header=None)\n",
    "print(df)"
   ]
  },
  {
   "cell_type": "code",
   "execution_count": null,
   "metadata": {
    "slideshow": {
     "slide_type": "subslide"
    }
   },
   "outputs": [],
   "source": [
    "# Delimiter가 쉼표가 아닐 경우\n",
    "df = pd.read_csv('data/subway_semicolon.csv', sep=';')\n",
    "print(df)"
   ]
  },
  {
   "cell_type": "markdown",
   "metadata": {
    "slideshow": {
     "slide_type": "slide"
    }
   },
   "source": [
    "---\n",
    "### Excel 파일을 DataFrame에 불러오기\n",
    "\n",
    "```python\n",
    "df = pd.read_excel(filepath, sheet_name, ...)\n",
    "```"
   ]
  },
  {
   "cell_type": "markdown",
   "metadata": {
    "slideshow": {
     "slide_type": "slide"
    }
   },
   "source": [
    "#### Example"
   ]
  },
  {
   "cell_type": "code",
   "execution_count": null,
   "metadata": {},
   "outputs": [],
   "source": [
    "df = pd.read_excel('data/subway.xlsx', sheet_name='subway')\n",
    "print(df)"
   ]
  },
  {
   "cell_type": "markdown",
   "metadata": {
    "slideshow": {
     "slide_type": "slide"
    }
   },
   "source": [
    "---\n",
    "\n",
    "### HTML (Hyper Text Markup Language) 이란\n",
    " - 웹페이지 문서를 작성하는 언어\n",
    " - 화살괄호 ('<', '>') 로 구분되는 여러 태그들로 구성\n",
    " - 확장자 : .html, .htm\n",
    " - Pandas의 read_html 함수는 HTML문서에서 표(<table> 태그)에 해당하는 부분만 자동으로 읽어온다"
   ]
  },
  {
   "cell_type": "markdown",
   "metadata": {
    "slideshow": {
     "slide_type": "slide"
    }
   },
   "source": [
    "![title](img/bank_page.png)"
   ]
  },
  {
   "cell_type": "markdown",
   "metadata": {
    "slideshow": {
     "slide_type": "slide"
    }
   },
   "source": [
    "![title](img/html_code.png)"
   ]
  },
  {
   "cell_type": "markdown",
   "metadata": {
    "slideshow": {
     "slide_type": "slide"
    }
   },
   "source": [
    " \n",
    "### HTML 파일을 DataFrame에 불러오기\n",
    "\n",
    "```python\n",
    "df = pd.read_html(url)\n",
    "df = pd.read_html(filepath)\n",
    "```"
   ]
  },
  {
   "cell_type": "markdown",
   "metadata": {
    "slideshow": {
     "slide_type": "slide"
    }
   },
   "source": [
    "#### Example"
   ]
  },
  {
   "cell_type": "code",
   "execution_count": null,
   "metadata": {
    "slideshow": {
     "slide_type": "-"
    }
   },
   "outputs": [],
   "source": [
    "# URL을 입력하여 해당 페이지의 Table 불러오기\n",
    "# read_html 의 결과로 DataFrame의 '리스트'가 반횐되는 것에 유의\n",
    "url = 'https://www.fdic.gov/bank/individual/failed/banklist.html'\n",
    "dfs = pd.read_html(url)\n",
    "print(dfs[0])"
   ]
  },
  {
   "cell_type": "code",
   "execution_count": null,
   "metadata": {
    "slideshow": {
     "slide_type": "subslide"
    }
   },
   "outputs": [],
   "source": [
    "# 파일로 저장된 HTML문서의 경로를 통해 해당 페이지의 Table 불러오기\n",
    "dfs = pd.read_html('data/bank.htm')\n",
    "print(dfs[0])"
   ]
  },
  {
   "cell_type": "markdown",
   "metadata": {
    "slideshow": {
     "slide_type": "slide"
    }
   },
   "source": [
    "---\n",
    "### JSON (JavaScript Object Notation) 이란\n",
    "![title](img/json.png)\n",
    "\n",
    " - 파이썬의 딕셔너리와 같은, Key-Value 데이터 오브젝트에 대한 개방형 표준 포맷\n",
    " - 프로그래밍 언어와 플랫폼에 독립적 : 여러 언어에서 쉽게 변환하여 이용 가능\n",
    " - 웹에서 데이터를 주고 받을 때에도 자주 사용됨\n",
    " - 확장자 : .json\n",
    " \n",
    " "
   ]
  },
  {
   "cell_type": "markdown",
   "metadata": {
    "slideshow": {
     "slide_type": "slide"
    }
   },
   "source": [
    "### JSON 파일을 DataFrame에 불러오기\n",
    "\n",
    "```python\n",
    "df = pd.read_json(filepath)\n",
    "```"
   ]
  },
  {
   "cell_type": "markdown",
   "metadata": {
    "slideshow": {
     "slide_type": "slide"
    }
   },
   "source": [
    "#### Example"
   ]
  },
  {
   "cell_type": "code",
   "execution_count": null,
   "metadata": {},
   "outputs": [],
   "source": [
    "# 미국 연도별 인구 데이터 불러오기\n",
    "df = pd.read_json('data/population.json')\n",
    "print(df)"
   ]
  },
  {
   "cell_type": "code",
   "execution_count": null,
   "metadata": {
    "slideshow": {
     "slide_type": "subslide"
    }
   },
   "outputs": [],
   "source": [
    "# json_normalize 함수를 이용하여 Nested structure의 JSON 파일을 정상적으로 불러오기\n",
    "import json\n",
    "from pandas.io.json import json_normalize\n",
    "with open ('data/population.json') as data_file:\n",
    "    data = json.load(data_file)\n",
    "\n",
    "df = json_normalize(data)\n",
    "print(df)\n"
   ]
  },
  {
   "cell_type": "markdown",
   "metadata": {
    "slideshow": {
     "slide_type": "slide"
    }
   },
   "source": [
    "---\n",
    "### 클립보드의 내용을 DataFrame에 불러오기\n",
    "\n",
    "```python\n",
    "df = pd.read_clipboard()\n",
    "```"
   ]
  }
 ],
 "metadata": {
  "celltoolbar": "Slideshow",
  "kernelspec": {
   "display_name": "Python 3",
   "language": "python",
   "name": "python3"
  },
  "language_info": {
   "codemirror_mode": {
    "name": "ipython",
    "version": 3
   },
   "file_extension": ".py",
   "mimetype": "text/x-python",
   "name": "python",
   "nbconvert_exporter": "python",
   "pygments_lexer": "ipython3",
   "version": "3.7.3"
  }
 },
 "nbformat": 4,
 "nbformat_minor": 2
}
